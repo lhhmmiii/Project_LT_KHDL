{
 "cells": [
  {
   "cell_type": "markdown",
   "id": "3c99f252",
   "metadata": {},
   "source": [
    "# 1. Import thư viện"
   ]
  },
  {
   "cell_type": "code",
   "execution_count": 1,
   "id": "4d595256",
   "metadata": {},
   "outputs": [],
   "source": [
    "import numpy as np\n",
    "import pandas as pd\n",
    "import matplotlib.pyplot as plt\n",
    "import seaborn as sns\n",
    "import re\n",
    "from sklearn.feature_extraction.text import TfidfTransformer\n",
    "from sklearn.metrics.pairwise import cosine_similarity"
   ]
  },
  {
   "cell_type": "markdown",
   "id": "5880d74b",
   "metadata": {},
   "source": [
    "# 2. Collecting data"
   ]
  },
  {
   "cell_type": "markdown",
   "id": "f2c904de",
   "metadata": {},
   "source": [
    "## 2.1 What subject is your data about? What is the source of your data?"
   ]
  },
  {
   "cell_type": "markdown",
   "id": "0570477a",
   "metadata": {},
   "source": [
    "**Subject:** Nói về các cuốn sách được đọc nhiều trong năm 2021<br>\n",
    "**Source:** https://www.kaggle.com/datasets/shashwatwork/best-book-ever-data-for-2021/data"
   ]
  },
  {
   "cell_type": "markdown",
   "id": "036412e4",
   "metadata": {},
   "source": [
    "## 2.2 Do authors of this data allow you to use like this? You can check the data license"
   ]
  },
  {
   "cell_type": "markdown",
   "id": "4ba5eceb",
   "metadata": {},
   "source": [
    "- **Chia sẻ** - sao chép và phân phối lại dataset ở bất kỳ phương tiện hoặc định dạng nào\n",
    "- **Thích ứng** - phối lại, biến đổi và xây dựng dựa trên dataset"
   ]
  },
  {
   "cell_type": "markdown",
   "id": "d6a65f62",
   "metadata": {},
   "source": [
    "## 2.3 How did authors collect data?"
   ]
  },
  {
   "cell_type": "markdown",
   "id": "335e4862",
   "metadata": {},
   "source": [
    "Dataset đã được thu thập trong khung Prac1 của chủ đề Tipology and Data Life Cycle của Bằng Thạc sĩ Khoa học dữ liệu của Đại học Oberta de Catalunya (UOC)."
   ]
  },
  {
   "cell_type": "markdown",
   "id": "a228622f",
   "metadata": {},
   "source": [
    "# 3. Exploring data"
   ]
  },
  {
   "cell_type": "code",
   "execution_count": 2,
   "id": "e1165d0b",
   "metadata": {},
   "outputs": [
    {
     "data": {
      "text/html": [
       "<div>\n",
       "<style scoped>\n",
       "    .dataframe tbody tr th:only-of-type {\n",
       "        vertical-align: middle;\n",
       "    }\n",
       "\n",
       "    .dataframe tbody tr th {\n",
       "        vertical-align: top;\n",
       "    }\n",
       "\n",
       "    .dataframe thead th {\n",
       "        text-align: right;\n",
       "    }\n",
       "</style>\n",
       "<table border=\"1\" class=\"dataframe\">\n",
       "  <thead>\n",
       "    <tr style=\"text-align: right;\">\n",
       "      <th></th>\n",
       "      <th>bookId</th>\n",
       "      <th>title</th>\n",
       "      <th>series</th>\n",
       "      <th>author</th>\n",
       "      <th>rating</th>\n",
       "      <th>description</th>\n",
       "      <th>language</th>\n",
       "      <th>isbn</th>\n",
       "      <th>genres</th>\n",
       "      <th>characters</th>\n",
       "      <th>...</th>\n",
       "      <th>firstPublishDate</th>\n",
       "      <th>awards</th>\n",
       "      <th>numRatings</th>\n",
       "      <th>ratingsByStars</th>\n",
       "      <th>likedPercent</th>\n",
       "      <th>setting</th>\n",
       "      <th>coverImg</th>\n",
       "      <th>bbeScore</th>\n",
       "      <th>bbeVotes</th>\n",
       "      <th>price</th>\n",
       "    </tr>\n",
       "  </thead>\n",
       "  <tbody>\n",
       "    <tr>\n",
       "      <th>0</th>\n",
       "      <td>2767052-the-hunger-games</td>\n",
       "      <td>The Hunger Games</td>\n",
       "      <td>The Hunger Games #1</td>\n",
       "      <td>Suzanne Collins</td>\n",
       "      <td>4.33</td>\n",
       "      <td>WINNING MEANS FAME AND FORTUNE.LOSING MEANS CE...</td>\n",
       "      <td>English</td>\n",
       "      <td>9780439023481</td>\n",
       "      <td>['Young Adult', 'Fiction', 'Dystopia', 'Fantas...</td>\n",
       "      <td>['Katniss Everdeen', 'Peeta Mellark', 'Cato (H...</td>\n",
       "      <td>...</td>\n",
       "      <td>NaN</td>\n",
       "      <td>['Locus Award Nominee for Best Young Adult Boo...</td>\n",
       "      <td>6376780</td>\n",
       "      <td>['3444695', '1921313', '745221', '171994', '93...</td>\n",
       "      <td>96.0</td>\n",
       "      <td>['District 12, Panem', 'Capitol, Panem', 'Pane...</td>\n",
       "      <td>https://i.gr-assets.com/images/S/compressed.ph...</td>\n",
       "      <td>2993816</td>\n",
       "      <td>30516</td>\n",
       "      <td>5.09</td>\n",
       "    </tr>\n",
       "    <tr>\n",
       "      <th>1</th>\n",
       "      <td>2.Harry_Potter_and_the_Order_of_the_Phoenix</td>\n",
       "      <td>Harry Potter and the Order of the Phoenix</td>\n",
       "      <td>Harry Potter #5</td>\n",
       "      <td>J.K. Rowling, Mary GrandPré (Illustrator)</td>\n",
       "      <td>4.50</td>\n",
       "      <td>There is a door at the end of a silent corrido...</td>\n",
       "      <td>English</td>\n",
       "      <td>9780439358071</td>\n",
       "      <td>['Fantasy', 'Young Adult', 'Fiction', 'Magic',...</td>\n",
       "      <td>['Sirius Black', 'Draco Malfoy', 'Ron Weasley'...</td>\n",
       "      <td>...</td>\n",
       "      <td>06/21/03</td>\n",
       "      <td>['Bram Stoker Award for Works for Young Reader...</td>\n",
       "      <td>2507623</td>\n",
       "      <td>['1593642', '637516', '222366', '39573', '14526']</td>\n",
       "      <td>98.0</td>\n",
       "      <td>['Hogwarts School of Witchcraft and Wizardry (...</td>\n",
       "      <td>https://i.gr-assets.com/images/S/compressed.ph...</td>\n",
       "      <td>2632233</td>\n",
       "      <td>26923</td>\n",
       "      <td>7.38</td>\n",
       "    </tr>\n",
       "    <tr>\n",
       "      <th>2</th>\n",
       "      <td>2657.To_Kill_a_Mockingbird</td>\n",
       "      <td>To Kill a Mockingbird</td>\n",
       "      <td>To Kill a Mockingbird</td>\n",
       "      <td>Harper Lee</td>\n",
       "      <td>4.28</td>\n",
       "      <td>The unforgettable novel of a childhood in a sl...</td>\n",
       "      <td>English</td>\n",
       "      <td>9999999999999</td>\n",
       "      <td>['Classics', 'Fiction', 'Historical Fiction', ...</td>\n",
       "      <td>['Scout Finch', 'Atticus Finch', 'Jem Finch', ...</td>\n",
       "      <td>...</td>\n",
       "      <td>07/11/60</td>\n",
       "      <td>['Pulitzer Prize for Fiction (1961)', 'Audie A...</td>\n",
       "      <td>4501075</td>\n",
       "      <td>['2363896', '1333153', '573280', '149952', '80...</td>\n",
       "      <td>95.0</td>\n",
       "      <td>['Maycomb, Alabama (United States)']</td>\n",
       "      <td>https://i.gr-assets.com/images/S/compressed.ph...</td>\n",
       "      <td>2269402</td>\n",
       "      <td>23328</td>\n",
       "      <td>NaN</td>\n",
       "    </tr>\n",
       "    <tr>\n",
       "      <th>3</th>\n",
       "      <td>1885.Pride_and_Prejudice</td>\n",
       "      <td>Pride and Prejudice</td>\n",
       "      <td>NaN</td>\n",
       "      <td>Jane Austen, Anna Quindlen (Introduction)</td>\n",
       "      <td>4.26</td>\n",
       "      <td>Alternate cover edition of ISBN 9780679783268S...</td>\n",
       "      <td>English</td>\n",
       "      <td>9999999999999</td>\n",
       "      <td>['Classics', 'Fiction', 'Romance', 'Historical...</td>\n",
       "      <td>['Mr. Bennet', 'Mrs. Bennet', 'Jane Bennet', '...</td>\n",
       "      <td>...</td>\n",
       "      <td>01/28/13</td>\n",
       "      <td>[]</td>\n",
       "      <td>2998241</td>\n",
       "      <td>['1617567', '816659', '373311', '113934', '767...</td>\n",
       "      <td>94.0</td>\n",
       "      <td>['United Kingdom', 'Derbyshire, England (Unite...</td>\n",
       "      <td>https://i.gr-assets.com/images/S/compressed.ph...</td>\n",
       "      <td>1983116</td>\n",
       "      <td>20452</td>\n",
       "      <td>NaN</td>\n",
       "    </tr>\n",
       "    <tr>\n",
       "      <th>4</th>\n",
       "      <td>41865.Twilight</td>\n",
       "      <td>Twilight</td>\n",
       "      <td>The Twilight Saga #1</td>\n",
       "      <td>Stephenie Meyer</td>\n",
       "      <td>3.60</td>\n",
       "      <td>About three things I was absolutely positive.\\...</td>\n",
       "      <td>English</td>\n",
       "      <td>9780316015844</td>\n",
       "      <td>['Young Adult', 'Fantasy', 'Romance', 'Vampire...</td>\n",
       "      <td>['Edward Cullen', 'Jacob Black', 'Laurent', 'R...</td>\n",
       "      <td>...</td>\n",
       "      <td>10/05/05</td>\n",
       "      <td>['Georgia Peach Book Award (2007)', 'Buxtehude...</td>\n",
       "      <td>4964519</td>\n",
       "      <td>['1751460', '1113682', '1008686', '542017', '5...</td>\n",
       "      <td>78.0</td>\n",
       "      <td>['Forks, Washington (United States)', 'Phoenix...</td>\n",
       "      <td>https://i.gr-assets.com/images/S/compressed.ph...</td>\n",
       "      <td>1459448</td>\n",
       "      <td>14874</td>\n",
       "      <td>2.1</td>\n",
       "    </tr>\n",
       "    <tr>\n",
       "      <th>5</th>\n",
       "      <td>19063.The_Book_Thief</td>\n",
       "      <td>The Book Thief</td>\n",
       "      <td>NaN</td>\n",
       "      <td>Markus Zusak (Goodreads Author)</td>\n",
       "      <td>4.37</td>\n",
       "      <td>Librarian's note: An alternate cover edition c...</td>\n",
       "      <td>English</td>\n",
       "      <td>9780375831003</td>\n",
       "      <td>['Historical Fiction', 'Fiction', 'Young Adult...</td>\n",
       "      <td>['Liesel Meminger', 'Hans Hubermann', 'Rudy St...</td>\n",
       "      <td>...</td>\n",
       "      <td>09/01/05</td>\n",
       "      <td>['National Jewish Book Award for Children’s an...</td>\n",
       "      <td>1834276</td>\n",
       "      <td>['1048230', '524674', '186297', '48864', '26211']</td>\n",
       "      <td>96.0</td>\n",
       "      <td>['Molching (Germany)', 'Germany']</td>\n",
       "      <td>https://i.gr-assets.com/images/S/compressed.ph...</td>\n",
       "      <td>1372809</td>\n",
       "      <td>14168</td>\n",
       "      <td>3.8</td>\n",
       "    </tr>\n",
       "    <tr>\n",
       "      <th>6</th>\n",
       "      <td>170448.Animal_Farm</td>\n",
       "      <td>Animal Farm</td>\n",
       "      <td>NaN</td>\n",
       "      <td>George Orwell, Russell Baker (Preface), C.M. W...</td>\n",
       "      <td>3.95</td>\n",
       "      <td>Librarian's note: There is an Alternate Cover ...</td>\n",
       "      <td>English</td>\n",
       "      <td>9780451526342</td>\n",
       "      <td>['Classics', 'Fiction', 'Dystopia', 'Fantasy',...</td>\n",
       "      <td>['Snowball', 'Napoleon', 'Clover', 'Boxer', 'O...</td>\n",
       "      <td>...</td>\n",
       "      <td>08/17/45</td>\n",
       "      <td>['Prometheus Hall of Fame Award (2011)', 'Retr...</td>\n",
       "      <td>2740713</td>\n",
       "      <td>['986764', '958699', '545475', '165093', '84682']</td>\n",
       "      <td>91.0</td>\n",
       "      <td>['England', 'United Kingdom']</td>\n",
       "      <td>https://i.gr-assets.com/images/S/compressed.ph...</td>\n",
       "      <td>1276599</td>\n",
       "      <td>13264</td>\n",
       "      <td>4.42</td>\n",
       "    </tr>\n",
       "    <tr>\n",
       "      <th>7</th>\n",
       "      <td>11127.The_Chronicles_of_Narnia</td>\n",
       "      <td>The Chronicles of Narnia</td>\n",
       "      <td>The Chronicles of Narnia (Publication Order) #1–7</td>\n",
       "      <td>C.S. Lewis, Pauline Baynes (Illustrator)</td>\n",
       "      <td>4.26</td>\n",
       "      <td>Journeys to the end of the world, fantastic cr...</td>\n",
       "      <td>English</td>\n",
       "      <td>9999999999999</td>\n",
       "      <td>['Fantasy', 'Classics', 'Fiction', 'Young Adul...</td>\n",
       "      <td>['Polly', 'Aslan', 'Lucy Pevensie', 'Edmund Pe...</td>\n",
       "      <td>...</td>\n",
       "      <td>10/28/56</td>\n",
       "      <td>[]</td>\n",
       "      <td>517740</td>\n",
       "      <td>['254964', '167572', '74362', '15423', '5419']</td>\n",
       "      <td>96.0</td>\n",
       "      <td>['London, England']</td>\n",
       "      <td>https://i.gr-assets.com/images/S/compressed.ph...</td>\n",
       "      <td>1238556</td>\n",
       "      <td>12949</td>\n",
       "      <td>NaN</td>\n",
       "    </tr>\n",
       "    <tr>\n",
       "      <th>8</th>\n",
       "      <td>30.J_R_R_Tolkien_4_Book_Boxed_Set</td>\n",
       "      <td>J.R.R. Tolkien 4-Book Boxed Set: The Hobbit an...</td>\n",
       "      <td>The Lord of the Rings #0-3</td>\n",
       "      <td>J.R.R. Tolkien</td>\n",
       "      <td>4.60</td>\n",
       "      <td>This four-volume, boxed set contains J.R.R. To...</td>\n",
       "      <td>English</td>\n",
       "      <td>9780345538376</td>\n",
       "      <td>['Fantasy', 'Fiction', 'Classics', 'Adventure'...</td>\n",
       "      <td>['Frodo Baggins', 'Gandalf', 'Bilbo Baggins', ...</td>\n",
       "      <td>...</td>\n",
       "      <td>10/20/55</td>\n",
       "      <td>[]</td>\n",
       "      <td>110146</td>\n",
       "      <td>['78217', '22857', '6628', '1477', '967']</td>\n",
       "      <td>98.0</td>\n",
       "      <td>['Middle-earth']</td>\n",
       "      <td>https://i.gr-assets.com/images/S/compressed.ph...</td>\n",
       "      <td>1159802</td>\n",
       "      <td>12111</td>\n",
       "      <td>21.15</td>\n",
       "    </tr>\n",
       "    <tr>\n",
       "      <th>9</th>\n",
       "      <td>18405.Gone_with_the_Wind</td>\n",
       "      <td>Gone with the Wind</td>\n",
       "      <td>NaN</td>\n",
       "      <td>Margaret Mitchell</td>\n",
       "      <td>4.30</td>\n",
       "      <td>Scarlett O'Hara, the beautiful, spoiled daught...</td>\n",
       "      <td>English</td>\n",
       "      <td>9780446675536</td>\n",
       "      <td>['Classics', 'Historical Fiction', 'Fiction', ...</td>\n",
       "      <td>[\"Scarlett O'Hara\", 'Rhett Butler', 'Ashley Wi...</td>\n",
       "      <td>...</td>\n",
       "      <td>06/30/36</td>\n",
       "      <td>['Pulitzer Prize for Novel (1937)', 'National ...</td>\n",
       "      <td>1074620</td>\n",
       "      <td>['602138', '275517', '133535', '39008', '24422']</td>\n",
       "      <td>94.0</td>\n",
       "      <td>['Atlanta, Georgia (United States)']</td>\n",
       "      <td>https://i.gr-assets.com/images/S/compressed.ph...</td>\n",
       "      <td>1087732</td>\n",
       "      <td>11211</td>\n",
       "      <td>5.58</td>\n",
       "    </tr>\n",
       "  </tbody>\n",
       "</table>\n",
       "<p>10 rows × 25 columns</p>\n",
       "</div>"
      ],
      "text/plain": [
       "                                        bookId  \\\n",
       "0                     2767052-the-hunger-games   \n",
       "1  2.Harry_Potter_and_the_Order_of_the_Phoenix   \n",
       "2                   2657.To_Kill_a_Mockingbird   \n",
       "3                     1885.Pride_and_Prejudice   \n",
       "4                               41865.Twilight   \n",
       "5                         19063.The_Book_Thief   \n",
       "6                           170448.Animal_Farm   \n",
       "7               11127.The_Chronicles_of_Narnia   \n",
       "8            30.J_R_R_Tolkien_4_Book_Boxed_Set   \n",
       "9                     18405.Gone_with_the_Wind   \n",
       "\n",
       "                                               title  \\\n",
       "0                                   The Hunger Games   \n",
       "1          Harry Potter and the Order of the Phoenix   \n",
       "2                              To Kill a Mockingbird   \n",
       "3                                Pride and Prejudice   \n",
       "4                                           Twilight   \n",
       "5                                     The Book Thief   \n",
       "6                                        Animal Farm   \n",
       "7                           The Chronicles of Narnia   \n",
       "8  J.R.R. Tolkien 4-Book Boxed Set: The Hobbit an...   \n",
       "9                                 Gone with the Wind   \n",
       "\n",
       "                                              series  \\\n",
       "0                                The Hunger Games #1   \n",
       "1                                    Harry Potter #5   \n",
       "2                              To Kill a Mockingbird   \n",
       "3                                                NaN   \n",
       "4                               The Twilight Saga #1   \n",
       "5                                                NaN   \n",
       "6                                                NaN   \n",
       "7  The Chronicles of Narnia (Publication Order) #1–7   \n",
       "8                         The Lord of the Rings #0-3   \n",
       "9                                                NaN   \n",
       "\n",
       "                                              author  rating  \\\n",
       "0                                    Suzanne Collins    4.33   \n",
       "1          J.K. Rowling, Mary GrandPré (Illustrator)    4.50   \n",
       "2                                         Harper Lee    4.28   \n",
       "3          Jane Austen, Anna Quindlen (Introduction)    4.26   \n",
       "4                                    Stephenie Meyer    3.60   \n",
       "5                    Markus Zusak (Goodreads Author)    4.37   \n",
       "6  George Orwell, Russell Baker (Preface), C.M. W...    3.95   \n",
       "7           C.S. Lewis, Pauline Baynes (Illustrator)    4.26   \n",
       "8                                     J.R.R. Tolkien    4.60   \n",
       "9                                  Margaret Mitchell    4.30   \n",
       "\n",
       "                                         description language           isbn  \\\n",
       "0  WINNING MEANS FAME AND FORTUNE.LOSING MEANS CE...  English  9780439023481   \n",
       "1  There is a door at the end of a silent corrido...  English  9780439358071   \n",
       "2  The unforgettable novel of a childhood in a sl...  English  9999999999999   \n",
       "3  Alternate cover edition of ISBN 9780679783268S...  English  9999999999999   \n",
       "4  About three things I was absolutely positive.\\...  English  9780316015844   \n",
       "5  Librarian's note: An alternate cover edition c...  English  9780375831003   \n",
       "6  Librarian's note: There is an Alternate Cover ...  English  9780451526342   \n",
       "7  Journeys to the end of the world, fantastic cr...  English  9999999999999   \n",
       "8  This four-volume, boxed set contains J.R.R. To...  English  9780345538376   \n",
       "9  Scarlett O'Hara, the beautiful, spoiled daught...  English  9780446675536   \n",
       "\n",
       "                                              genres  \\\n",
       "0  ['Young Adult', 'Fiction', 'Dystopia', 'Fantas...   \n",
       "1  ['Fantasy', 'Young Adult', 'Fiction', 'Magic',...   \n",
       "2  ['Classics', 'Fiction', 'Historical Fiction', ...   \n",
       "3  ['Classics', 'Fiction', 'Romance', 'Historical...   \n",
       "4  ['Young Adult', 'Fantasy', 'Romance', 'Vampire...   \n",
       "5  ['Historical Fiction', 'Fiction', 'Young Adult...   \n",
       "6  ['Classics', 'Fiction', 'Dystopia', 'Fantasy',...   \n",
       "7  ['Fantasy', 'Classics', 'Fiction', 'Young Adul...   \n",
       "8  ['Fantasy', 'Fiction', 'Classics', 'Adventure'...   \n",
       "9  ['Classics', 'Historical Fiction', 'Fiction', ...   \n",
       "\n",
       "                                          characters  ... firstPublishDate  \\\n",
       "0  ['Katniss Everdeen', 'Peeta Mellark', 'Cato (H...  ...              NaN   \n",
       "1  ['Sirius Black', 'Draco Malfoy', 'Ron Weasley'...  ...         06/21/03   \n",
       "2  ['Scout Finch', 'Atticus Finch', 'Jem Finch', ...  ...         07/11/60   \n",
       "3  ['Mr. Bennet', 'Mrs. Bennet', 'Jane Bennet', '...  ...         01/28/13   \n",
       "4  ['Edward Cullen', 'Jacob Black', 'Laurent', 'R...  ...         10/05/05   \n",
       "5  ['Liesel Meminger', 'Hans Hubermann', 'Rudy St...  ...         09/01/05   \n",
       "6  ['Snowball', 'Napoleon', 'Clover', 'Boxer', 'O...  ...         08/17/45   \n",
       "7  ['Polly', 'Aslan', 'Lucy Pevensie', 'Edmund Pe...  ...         10/28/56   \n",
       "8  ['Frodo Baggins', 'Gandalf', 'Bilbo Baggins', ...  ...         10/20/55   \n",
       "9  [\"Scarlett O'Hara\", 'Rhett Butler', 'Ashley Wi...  ...         06/30/36   \n",
       "\n",
       "                                              awards numRatings  \\\n",
       "0  ['Locus Award Nominee for Best Young Adult Boo...    6376780   \n",
       "1  ['Bram Stoker Award for Works for Young Reader...    2507623   \n",
       "2  ['Pulitzer Prize for Fiction (1961)', 'Audie A...    4501075   \n",
       "3                                                 []    2998241   \n",
       "4  ['Georgia Peach Book Award (2007)', 'Buxtehude...    4964519   \n",
       "5  ['National Jewish Book Award for Children’s an...    1834276   \n",
       "6  ['Prometheus Hall of Fame Award (2011)', 'Retr...    2740713   \n",
       "7                                                 []     517740   \n",
       "8                                                 []     110146   \n",
       "9  ['Pulitzer Prize for Novel (1937)', 'National ...    1074620   \n",
       "\n",
       "                                      ratingsByStars likedPercent  \\\n",
       "0  ['3444695', '1921313', '745221', '171994', '93...         96.0   \n",
       "1  ['1593642', '637516', '222366', '39573', '14526']         98.0   \n",
       "2  ['2363896', '1333153', '573280', '149952', '80...         95.0   \n",
       "3  ['1617567', '816659', '373311', '113934', '767...         94.0   \n",
       "4  ['1751460', '1113682', '1008686', '542017', '5...         78.0   \n",
       "5  ['1048230', '524674', '186297', '48864', '26211']         96.0   \n",
       "6  ['986764', '958699', '545475', '165093', '84682']         91.0   \n",
       "7     ['254964', '167572', '74362', '15423', '5419']         96.0   \n",
       "8          ['78217', '22857', '6628', '1477', '967']         98.0   \n",
       "9   ['602138', '275517', '133535', '39008', '24422']         94.0   \n",
       "\n",
       "                                             setting  \\\n",
       "0  ['District 12, Panem', 'Capitol, Panem', 'Pane...   \n",
       "1  ['Hogwarts School of Witchcraft and Wizardry (...   \n",
       "2               ['Maycomb, Alabama (United States)']   \n",
       "3  ['United Kingdom', 'Derbyshire, England (Unite...   \n",
       "4  ['Forks, Washington (United States)', 'Phoenix...   \n",
       "5                  ['Molching (Germany)', 'Germany']   \n",
       "6                      ['England', 'United Kingdom']   \n",
       "7                                ['London, England']   \n",
       "8                                   ['Middle-earth']   \n",
       "9               ['Atlanta, Georgia (United States)']   \n",
       "\n",
       "                                            coverImg  bbeScore bbeVotes  price  \n",
       "0  https://i.gr-assets.com/images/S/compressed.ph...   2993816    30516   5.09  \n",
       "1  https://i.gr-assets.com/images/S/compressed.ph...   2632233    26923   7.38  \n",
       "2  https://i.gr-assets.com/images/S/compressed.ph...   2269402    23328    NaN  \n",
       "3  https://i.gr-assets.com/images/S/compressed.ph...   1983116    20452    NaN  \n",
       "4  https://i.gr-assets.com/images/S/compressed.ph...   1459448    14874    2.1  \n",
       "5  https://i.gr-assets.com/images/S/compressed.ph...   1372809    14168    3.8  \n",
       "6  https://i.gr-assets.com/images/S/compressed.ph...   1276599    13264   4.42  \n",
       "7  https://i.gr-assets.com/images/S/compressed.ph...   1238556    12949    NaN  \n",
       "8  https://i.gr-assets.com/images/S/compressed.ph...   1159802    12111  21.15  \n",
       "9  https://i.gr-assets.com/images/S/compressed.ph...   1087732    11211   5.58  \n",
       "\n",
       "[10 rows x 25 columns]"
      ]
     },
     "execution_count": 2,
     "metadata": {},
     "output_type": "execute_result"
    }
   ],
   "source": [
    "df = pd.read_csv(\"books_1.Best_Books_Ever.csv\")\n",
    "df.head(10)"
   ]
  },
  {
   "cell_type": "markdown",
   "id": "4617ee7e",
   "metadata": {},
   "source": [
    "## 3.1 How many rows and how many columns?"
   ]
  },
  {
   "cell_type": "code",
   "execution_count": 3,
   "id": "a7e0d42e",
   "metadata": {},
   "outputs": [
    {
     "name": "stdout",
     "output_type": "stream",
     "text": [
      "Number of rows:  52478\n",
      "Number of columns:  25\n"
     ]
    }
   ],
   "source": [
    "n_rows = df.shape[0]\n",
    "n_cols = df.shape[1]\n",
    "print(\"Number of rows: \",n_rows)\n",
    "print(\"Number of columns: \",n_cols)"
   ]
  },
  {
   "cell_type": "markdown",
   "id": "e4410a34",
   "metadata": {},
   "source": [
    "## 3.2 What is the meaning of each row?"
   ]
  },
  {
   "cell_type": "markdown",
   "id": "06df2deb",
   "metadata": {},
   "source": [
    "Mỗi dòng trong dataset sẽ đại diện cho một cuốn sách, phân biệt bằng thuộc tính \"bookId\", chứa những thuộc tính bao gồm thông tin của cuốn sách đó bao gồm tên sách, tác giả, thể loại,..."
   ]
  },
  {
   "cell_type": "markdown",
   "id": "3517f0b7",
   "metadata": {},
   "source": [
    "## 3.3 Are there duplicated rows?"
   ]
  },
  {
   "cell_type": "code",
   "execution_count": 4,
   "id": "815a5e48",
   "metadata": {
    "scrolled": true
   },
   "outputs": [
    {
     "name": "stdout",
     "output_type": "stream",
     "text": [
      "There are duplicated rows, number of duplicated rows:  50\n"
     ]
    }
   ],
   "source": [
    "def check_duplicated(df):\n",
    "    if (sum(df.duplicated()) > 0):\n",
    "        print(\"There are duplicated rows, number of duplicated rows: \",sum(df.duplicated()))\n",
    "    else:\n",
    "        print(\"There is no duplicated row.\")\n",
    "\n",
    "check_duplicated(df)"
   ]
  },
  {
   "cell_type": "code",
   "execution_count": 5,
   "id": "7ff536f6",
   "metadata": {},
   "outputs": [
    {
     "name": "stdout",
     "output_type": "stream",
     "text": [
      "There is no duplicated row.\n"
     ]
    }
   ],
   "source": [
    "#remove duplicated rows\n",
    "# df = df.drop([\"price\"],axis=1) \n",
    "df = df.drop_duplicates()\n",
    "check_duplicated(df)"
   ]
  },
  {
   "cell_type": "markdown",
   "id": "524baf08",
   "metadata": {},
   "source": [
    "## 3.4 What is the meaning of each column?"
   ]
  },
  {
   "cell_type": "markdown",
   "id": "d1530c9d",
   "metadata": {},
   "source": [
    "- bookId: Định danh của sách trên goodreads.com\n",
    "- title: Tiêu đề sách\n",
    "- series: Tên thứ tự sách trong một chuỗi loạt sách\n",
    "- author: Tác giả của sách\n",
    "- rating: Điểm đánh giá toàn cầu trên Goodreads\n",
    "- description: Mô tả về sách\n",
    "- language: Ngôn ngữ của sách\n",
    "- isbn: Số ISBN của sách\n",
    "- genres: Thể loại của sách\n",
    "- characters: Nhân vật chính trong sách\n",
    "- bookFormat: Loại bìa sách\n",
    "- edition: Loại bản sách (ví dụ: Bản kỷ niệm)\n",
    "- pages: Số trang của sách\n",
    "- publisher: Nhà xuất bản\n",
    "- publishDate: Ngày xuất bản\n",
    "- firstPublishDate: Ngày xuất bản của bản đầu tiên\n",
    "- awards: Danh sách các giải thưởng\n",
    "- numRatings: Tổng số lượt đánh giá\n",
    "- ratingsByStars: Số lượt đánh giá từng theo sao\n",
    "- likedPercent: Phần trăm số lượt đánh giá từ 2 sao trở lên (như trên Goodreads)\n",
    "- setting: Bối cảnh của câu chuyện\n",
    "- coverImg: Đường link đến hình ảnh bìa sách\n",
    "- bbeScore: Điểm trong danh sách \"Best Books Ever\"\n",
    "- bbeVotes: Số phiếu bầu trong danh sách \"Best Books Ever\"\n",
    "- price: Giá sách (trích xuất từ Iberlibro)\n"
   ]
  },
  {
   "cell_type": "code",
   "execution_count": 6,
   "id": "20a54e91",
   "metadata": {},
   "outputs": [],
   "source": [
    "# Xử lí edition, bookFormat\n",
    "# df['bookFormat'].value_counts()\n",
    "# df['edition'].value_counts()[:30]"
   ]
  },
  {
   "cell_type": "markdown",
   "id": "3242dccf",
   "metadata": {},
   "source": [
    "## 3.5 What is the current data type of each column? Are there columns having inappropriate data types?"
   ]
  },
  {
   "cell_type": "code",
   "execution_count": 7,
   "id": "24a49d67",
   "metadata": {},
   "outputs": [
    {
     "name": "stdout",
     "output_type": "stream",
     "text": [
      "<class 'pandas.core.frame.DataFrame'>\n",
      "Int64Index: 52428 entries, 0 to 52477\n",
      "Data columns (total 25 columns):\n",
      " #   Column            Non-Null Count  Dtype  \n",
      "---  ------            --------------  -----  \n",
      " 0   bookId            52428 non-null  object \n",
      " 1   title             52428 non-null  object \n",
      " 2   series            23445 non-null  object \n",
      " 3   author            52428 non-null  object \n",
      " 4   rating            52428 non-null  float64\n",
      " 5   description       51092 non-null  object \n",
      " 6   language          48627 non-null  object \n",
      " 7   isbn              52428 non-null  object \n",
      " 8   genres            52428 non-null  object \n",
      " 9   characters        52428 non-null  object \n",
      " 10  bookFormat        50955 non-null  object \n",
      " 11  edition           4949 non-null   object \n",
      " 12  pages             50085 non-null  object \n",
      " 13  publisher         48736 non-null  object \n",
      " 14  publishDate       51549 non-null  object \n",
      " 15  firstPublishDate  31125 non-null  object \n",
      " 16  awards            52428 non-null  object \n",
      " 17  numRatings        52428 non-null  int64  \n",
      " 18  ratingsByStars    52428 non-null  object \n",
      " 19  likedPercent      51807 non-null  float64\n",
      " 20  setting           52428 non-null  object \n",
      " 21  coverImg          51823 non-null  object \n",
      " 22  bbeScore          52428 non-null  int64  \n",
      " 23  bbeVotes          52428 non-null  int64  \n",
      " 24  price             38084 non-null  object \n",
      "dtypes: float64(2), int64(3), object(20)\n",
      "memory usage: 10.4+ MB\n"
     ]
    }
   ],
   "source": [
    "df.info()"
   ]
  },
  {
   "cell_type": "markdown",
   "id": "e66af20a",
   "metadata": {},
   "source": [
    "Có, các cột bị sai kiểu dữ liệu chẳng hạn như: \n",
    "- pages: object thay vì numeric.\n",
    "- publishDate: object thay vì datetime object.\n",
    "- firstPublishDate: object thay vì datetime object.\n",
    "- ratingsByStars: là dạng string list của số lượt đánh giá theo từng sao, ta sẽ chia thành 5 cột.\n",
    "- setting: dạng string list chuyển sang list.\n",
    "- genres: dạng string list chuyển sang list.\n",
    "- author: dạng string (chuỗi các tác giả) sang list các tác giả.\n",
    "- characters: dạng string list chuyển sang list."
   ]
  },
  {
   "cell_type": "code",
   "execution_count": 8,
   "id": "d1b71f08",
   "metadata": {},
   "outputs": [],
   "source": [
    "#Fix data type\n",
    "df[\"pages\"] = pd.to_numeric(df[\"pages\"], errors='coerce')"
   ]
  },
  {
   "cell_type": "code",
   "execution_count": 9,
   "id": "b518dae9",
   "metadata": {},
   "outputs": [],
   "source": [
    "date_formats = [\n",
    "    '%m/%d/%y', '%B %dth %Y', '%B %dst %Y', '%B %dnd %Y', '%B %drd %Y', 'Y', '%B %Y', \"%b-%y\"\n",
    "]\n",
    "def convert_to_date(date_str):\n",
    "    for fmt in date_formats:\n",
    "        try:\n",
    "            new_date = pd.to_datetime(date_str, format=fmt)\n",
    "            if new_date.year > 2023:\n",
    "                return new_date.replace(year=new_date.year - 100)\n",
    "            return pd.to_datetime(date_str, format=fmt)\n",
    "        except ValueError:\n",
    "            pass\n",
    "    return pd.NaT\n",
    "\n",
    "df['publishDate'] = df['publishDate'].apply(convert_to_date)\n",
    "df['firstPublishDate'] = df['firstPublishDate'].apply(convert_to_date)"
   ]
  },
  {
   "cell_type": "code",
   "execution_count": 10,
   "id": "586ee8c7",
   "metadata": {},
   "outputs": [
    {
     "data": {
      "text/plain": [
       "0       2008-09-14\n",
       "1       2004-09-28\n",
       "2       2006-05-23\n",
       "3       2000-10-10\n",
       "4       2006-09-06\n",
       "           ...    \n",
       "52473   2011-05-28\n",
       "52474   2011-08-05\n",
       "52475   2011-03-18\n",
       "52476   2011-09-01\n",
       "52477   2011-05-08\n",
       "Name: publishDate, Length: 52428, dtype: datetime64[ns]"
      ]
     },
     "execution_count": 10,
     "metadata": {},
     "output_type": "execute_result"
    }
   ],
   "source": [
    "df['publishDate']"
   ]
  },
  {
   "cell_type": "code",
   "execution_count": 11,
   "id": "a41491cb",
   "metadata": {},
   "outputs": [
    {
     "data": {
      "text/plain": [
       "0        ['Locus Award Nominee for Best Young Adult Boo...\n",
       "1        ['Bram Stoker Award for Works for Young Reader...\n",
       "2        ['Pulitzer Prize for Fiction (1961)', 'Audie A...\n",
       "3                                                       []\n",
       "4        ['Georgia Peach Book Award (2007)', 'Buxtehude...\n",
       "                               ...                        \n",
       "52473                                                   []\n",
       "52474                                                   []\n",
       "52475              [\"Readers' Favorite Book Award (2011)\"]\n",
       "52476                                                   []\n",
       "52477                                                   []\n",
       "Name: awards, Length: 52428, dtype: object"
      ]
     },
     "execution_count": 11,
     "metadata": {},
     "output_type": "execute_result"
    }
   ],
   "source": [
    "df['awards']"
   ]
  },
  {
   "cell_type": "code",
   "execution_count": 12,
   "id": "33fcd676",
   "metadata": {},
   "outputs": [],
   "source": [
    "def convert_to_list(x):\n",
    "    return x[1:-1].replace(\"'\",\"\").split(', ')"
   ]
  },
  {
   "cell_type": "code",
   "execution_count": 13,
   "id": "d7f62c52",
   "metadata": {},
   "outputs": [],
   "source": [
    "df['awards'] = df['awards'].apply(lambda x: convert_to_list(x))\n",
    "df['awards'] = df['awards'].apply(lambda x: [y.replace('\"',\"\") for y in x])"
   ]
  },
  {
   "cell_type": "code",
   "execution_count": 14,
   "id": "d55c79c2",
   "metadata": {},
   "outputs": [],
   "source": [
    "df['ratingsByStars'] = df['ratingsByStars'].apply(lambda x: convert_to_list(x))\n",
    "df['ratingsByStars'] = df['ratingsByStars'].apply(lambda x : [int(y) for y in x if y.isdigit()])"
   ]
  },
  {
   "cell_type": "code",
   "execution_count": 15,
   "id": "ffea2d1c",
   "metadata": {},
   "outputs": [],
   "source": [
    "df['setting'] = df['setting'].apply(lambda x: convert_to_list(x))"
   ]
  },
  {
   "cell_type": "code",
   "execution_count": 16,
   "id": "e2ce32b6",
   "metadata": {},
   "outputs": [],
   "source": [
    "df['genres'] = df['genres'].apply(lambda x: convert_to_list(x))"
   ]
  },
  {
   "cell_type": "code",
   "execution_count": 17,
   "id": "e288f42b",
   "metadata": {},
   "outputs": [],
   "source": [
    "df['characters'] = df['characters'].apply(lambda x: convert_to_list(x))"
   ]
  },
  {
   "cell_type": "code",
   "execution_count": 18,
   "id": "c3b0dd78",
   "metadata": {},
   "outputs": [
    {
     "data": {
      "text/plain": [
       "[3444695, 1921313, 745221, 171994, 93557]"
      ]
     },
     "execution_count": 18,
     "metadata": {},
     "output_type": "execute_result"
    }
   ],
   "source": [
    "df['ratingsByStars'][0]"
   ]
  },
  {
   "cell_type": "code",
   "execution_count": 19,
   "id": "39fcb21b",
   "metadata": {},
   "outputs": [
    {
     "name": "stderr",
     "output_type": "stream",
     "text": [
      "C:\\Users\\HUNG\\AppData\\Local\\Temp\\ipykernel_14016\\3678658481.py:1: FutureWarning: The default dtype for empty Series will be 'object' instead of 'float64' in a future version. Specify a dtype explicitly to silence this warning.\n",
      "  df[['5_star', '4_star', '3_star', '2_star', '1_star']] = df['ratingsByStars'].apply(pd.Series)\n"
     ]
    }
   ],
   "source": [
    "df[['5_star', '4_star', '3_star', '2_star', '1_star']] = df['ratingsByStars'].apply(pd.Series)"
   ]
  },
  {
   "cell_type": "code",
   "execution_count": 20,
   "id": "df34d894",
   "metadata": {},
   "outputs": [
    {
     "data": {
      "text/plain": [
       "0         93557.0\n",
       "1         14526.0\n",
       "2         80794.0\n",
       "3         76770.0\n",
       "4        548674.0\n",
       "           ...   \n",
       "52473        11.0\n",
       "52474         0.0\n",
       "52475       390.0\n",
       "52476         5.0\n",
       "52477         8.0\n",
       "Name: 1_star, Length: 52428, dtype: float64"
      ]
     },
     "execution_count": 20,
     "metadata": {},
     "output_type": "execute_result"
    }
   ],
   "source": [
    "df['1_star']"
   ]
  },
  {
   "cell_type": "code",
   "execution_count": 21,
   "id": "71c01919",
   "metadata": {},
   "outputs": [],
   "source": [
    "df = df.drop(['ratingsByStars'],axis=1)"
   ]
  },
  {
   "cell_type": "code",
   "execution_count": 22,
   "id": "e8623c5b",
   "metadata": {},
   "outputs": [],
   "source": [
    "def remove_parentheses(entry):\n",
    "    '''\n",
    "    Remove role in author strings\n",
    "    '''\n",
    "    return re.sub(r'\\([^)]*\\)', '', entry)\n",
    "df['author'] = df['author'].apply(lambda x: remove_parentheses(x.replace(\", more…\",\"\")).split(', '))"
   ]
  },
  {
   "cell_type": "code",
   "execution_count": 23,
   "id": "2df7e1a0",
   "metadata": {
    "scrolled": false
   },
   "outputs": [
    {
     "name": "stdout",
     "output_type": "stream",
     "text": [
      "<class 'pandas.core.frame.DataFrame'>\n",
      "Int64Index: 52428 entries, 0 to 52477\n",
      "Data columns (total 29 columns):\n",
      " #   Column            Non-Null Count  Dtype         \n",
      "---  ------            --------------  -----         \n",
      " 0   bookId            52428 non-null  object        \n",
      " 1   title             52428 non-null  object        \n",
      " 2   series            23445 non-null  object        \n",
      " 3   author            52428 non-null  object        \n",
      " 4   rating            52428 non-null  float64       \n",
      " 5   description       51092 non-null  object        \n",
      " 6   language          48627 non-null  object        \n",
      " 7   isbn              52428 non-null  object        \n",
      " 8   genres            52428 non-null  object        \n",
      " 9   characters        52428 non-null  object        \n",
      " 10  bookFormat        50955 non-null  object        \n",
      " 11  edition           4949 non-null   object        \n",
      " 12  pages             50062 non-null  float64       \n",
      " 13  publisher         48736 non-null  object        \n",
      " 14  publishDate       45605 non-null  datetime64[ns]\n",
      " 15  firstPublishDate  30090 non-null  datetime64[ns]\n",
      " 16  awards            52428 non-null  object        \n",
      " 17  numRatings        52428 non-null  int64         \n",
      " 18  likedPercent      51807 non-null  float64       \n",
      " 19  setting           52428 non-null  object        \n",
      " 20  coverImg          51823 non-null  object        \n",
      " 21  bbeScore          52428 non-null  int64         \n",
      " 22  bbeVotes          52428 non-null  int64         \n",
      " 23  price             38084 non-null  object        \n",
      " 24  5_star            51006 non-null  float64       \n",
      " 25  4_star            51006 non-null  float64       \n",
      " 26  3_star            51006 non-null  float64       \n",
      " 27  2_star            51006 non-null  float64       \n",
      " 28  1_star            51006 non-null  float64       \n",
      "dtypes: datetime64[ns](2), float64(8), int64(3), object(16)\n",
      "memory usage: 14.0+ MB\n"
     ]
    }
   ],
   "source": [
    "df.info()"
   ]
  },
  {
   "cell_type": "markdown",
   "id": "9b3aaf3f",
   "metadata": {},
   "source": [
    "**Cột \"pages\" có giá trị float thay vì int vì có cột này chứa missing value, pandas sử dụng numpy để xử lý nên numpy hiểu các missing value (NaN) dạng float.**"
   ]
  },
  {
   "cell_type": "code",
   "execution_count": 24,
   "id": "122f1b04",
   "metadata": {
    "scrolled": true
   },
   "outputs": [
    {
     "data": {
      "text/plain": [
       "0        [Young Adult, Fiction, Dystopia, Fantasy, Scie...\n",
       "1        [Fantasy, Young Adult, Fiction, Magic, Childre...\n",
       "2        [Classics, Fiction, Historical Fiction, School...\n",
       "3        [Classics, Fiction, Romance, Historical Fictio...\n",
       "4        [Young Adult, Fantasy, Romance, Vampires, Fict...\n",
       "                               ...                        \n",
       "52473    [Vampires, Paranormal, Young Adult, Romance, F...\n",
       "52474                               [Mystery, Young Adult]\n",
       "52475    [Fantasy, Young Adult, Paranormal, Angels, Rom...\n",
       "52476    [Fiction, Mystery, Historical Fiction, Adventu...\n",
       "52477    [Lds Fiction, Historical Fiction, Young Adult,...\n",
       "Name: genres, Length: 52428, dtype: object"
      ]
     },
     "execution_count": 24,
     "metadata": {},
     "output_type": "execute_result"
    }
   ],
   "source": [
    "df['genres']"
   ]
  },
  {
   "cell_type": "code",
   "execution_count": 25,
   "id": "bf675db1",
   "metadata": {},
   "outputs": [
    {
     "data": {
      "text/plain": [
       "0        [District 12, Panem, Capitol, Panem, Panem (Un...\n",
       "1        [Hogwarts School of Witchcraft and Wizardry (U...\n",
       "2                       [Maycomb, Alabama (United States)]\n",
       "3        [United Kingdom, Derbyshire, England (United K...\n",
       "4        [Forks, Washington (United States), Phoenix, A...\n",
       "                               ...                        \n",
       "52473                                                   []\n",
       "52474                                                   []\n",
       "52475                                                   []\n",
       "52476                                                   []\n",
       "52477                                                   []\n",
       "Name: setting, Length: 52428, dtype: object"
      ]
     },
     "execution_count": 25,
     "metadata": {},
     "output_type": "execute_result"
    }
   ],
   "source": [
    "df['setting']"
   ]
  },
  {
   "cell_type": "markdown",
   "id": "de4c1c33",
   "metadata": {},
   "source": [
    "**Cột \"pages\" có giá trị float thay vì int vì có cột này chứa missing value, pandas sử dụng numpy để xử lý nên numpy hiểu các missing value (NaN) dạng float.**"
   ]
  },
  {
   "cell_type": "markdown",
   "id": "77d4ec59",
   "metadata": {},
   "source": [
    "## 3.6 With each numerical column, how are values distributed?"
   ]
  },
  {
   "cell_type": "code",
   "execution_count": 26,
   "id": "1f9deb6b",
   "metadata": {
    "scrolled": true
   },
   "outputs": [
    {
     "data": {
      "text/html": [
       "<div>\n",
       "<style scoped>\n",
       "    .dataframe tbody tr th:only-of-type {\n",
       "        vertical-align: middle;\n",
       "    }\n",
       "\n",
       "    .dataframe tbody tr th {\n",
       "        vertical-align: top;\n",
       "    }\n",
       "\n",
       "    .dataframe thead th {\n",
       "        text-align: right;\n",
       "    }\n",
       "</style>\n",
       "<table border=\"1\" class=\"dataframe\">\n",
       "  <thead>\n",
       "    <tr style=\"text-align: right;\">\n",
       "      <th></th>\n",
       "      <th>rating</th>\n",
       "      <th>pages</th>\n",
       "      <th>numRatings</th>\n",
       "      <th>likedPercent</th>\n",
       "      <th>bbeScore</th>\n",
       "      <th>bbeVotes</th>\n",
       "      <th>5_star</th>\n",
       "      <th>4_star</th>\n",
       "      <th>3_star</th>\n",
       "      <th>2_star</th>\n",
       "      <th>1_star</th>\n",
       "    </tr>\n",
       "  </thead>\n",
       "  <tbody>\n",
       "    <tr>\n",
       "      <th>count</th>\n",
       "      <td>52428.000000</td>\n",
       "      <td>50062.000000</td>\n",
       "      <td>5.242800e+04</td>\n",
       "      <td>51807.000000</td>\n",
       "      <td>5.242800e+04</td>\n",
       "      <td>52428.000000</td>\n",
       "      <td>5.100600e+04</td>\n",
       "      <td>5.100600e+04</td>\n",
       "      <td>5.100600e+04</td>\n",
       "      <td>51006.000000</td>\n",
       "      <td>51006.000000</td>\n",
       "    </tr>\n",
       "    <tr>\n",
       "      <th>mean</th>\n",
       "      <td>4.021865</td>\n",
       "      <td>328.706664</td>\n",
       "      <td>1.789260e+04</td>\n",
       "      <td>92.231938</td>\n",
       "      <td>1.985832e+03</td>\n",
       "      <td>22.549535</td>\n",
       "      <td>7.490740e+03</td>\n",
       "      <td>6.147517e+03</td>\n",
       "      <td>3.411688e+03</td>\n",
       "      <td>928.435910</td>\n",
       "      <td>412.779987</td>\n",
       "    </tr>\n",
       "    <tr>\n",
       "      <th>std</th>\n",
       "      <td>0.367116</td>\n",
       "      <td>252.264913</td>\n",
       "      <td>1.039932e+05</td>\n",
       "      <td>5.988683</td>\n",
       "      <td>3.516985e+04</td>\n",
       "      <td>369.333934</td>\n",
       "      <td>5.144225e+04</td>\n",
       "      <td>3.206654e+04</td>\n",
       "      <td>1.720328e+04</td>\n",
       "      <td>5659.912855</td>\n",
       "      <td>3765.856356</td>\n",
       "    </tr>\n",
       "    <tr>\n",
       "      <th>min</th>\n",
       "      <td>0.000000</td>\n",
       "      <td>0.000000</td>\n",
       "      <td>0.000000e+00</td>\n",
       "      <td>0.000000</td>\n",
       "      <td>0.000000e+00</td>\n",
       "      <td>-4.000000</td>\n",
       "      <td>0.000000e+00</td>\n",
       "      <td>0.000000e+00</td>\n",
       "      <td>0.000000e+00</td>\n",
       "      <td>0.000000</td>\n",
       "      <td>0.000000</td>\n",
       "    </tr>\n",
       "    <tr>\n",
       "      <th>25%</th>\n",
       "      <td>3.820000</td>\n",
       "      <td>210.000000</td>\n",
       "      <td>3.410000e+02</td>\n",
       "      <td>90.000000</td>\n",
       "      <td>8.400000e+01</td>\n",
       "      <td>1.000000</td>\n",
       "      <td>1.460000e+02</td>\n",
       "      <td>1.340000e+02</td>\n",
       "      <td>7.800000e+01</td>\n",
       "      <td>19.000000</td>\n",
       "      <td>7.000000</td>\n",
       "    </tr>\n",
       "    <tr>\n",
       "      <th>50%</th>\n",
       "      <td>4.030000</td>\n",
       "      <td>304.000000</td>\n",
       "      <td>2.309500e+03</td>\n",
       "      <td>94.000000</td>\n",
       "      <td>9.700000e+01</td>\n",
       "      <td>1.000000</td>\n",
       "      <td>8.840000e+02</td>\n",
       "      <td>8.340000e+02</td>\n",
       "      <td>4.900000e+02</td>\n",
       "      <td>117.000000</td>\n",
       "      <td>39.000000</td>\n",
       "    </tr>\n",
       "    <tr>\n",
       "      <th>75%</th>\n",
       "      <td>4.230000</td>\n",
       "      <td>392.000000</td>\n",
       "      <td>9.389000e+03</td>\n",
       "      <td>96.000000</td>\n",
       "      <td>1.870000e+02</td>\n",
       "      <td>2.000000</td>\n",
       "      <td>3.567750e+03</td>\n",
       "      <td>3.375000e+03</td>\n",
       "      <td>1.957750e+03</td>\n",
       "      <td>475.000000</td>\n",
       "      <td>163.000000</td>\n",
       "    </tr>\n",
       "    <tr>\n",
       "      <th>max</th>\n",
       "      <td>5.000000</td>\n",
       "      <td>14777.000000</td>\n",
       "      <td>7.048471e+06</td>\n",
       "      <td>100.000000</td>\n",
       "      <td>2.993816e+06</td>\n",
       "      <td>30516.000000</td>\n",
       "      <td>4.578137e+06</td>\n",
       "      <td>1.921313e+06</td>\n",
       "      <td>1.008686e+06</td>\n",
       "      <td>542017.000000</td>\n",
       "      <td>548674.000000</td>\n",
       "    </tr>\n",
       "  </tbody>\n",
       "</table>\n",
       "</div>"
      ],
      "text/plain": [
       "             rating         pages    numRatings  likedPercent      bbeScore  \\\n",
       "count  52428.000000  50062.000000  5.242800e+04  51807.000000  5.242800e+04   \n",
       "mean       4.021865    328.706664  1.789260e+04     92.231938  1.985832e+03   \n",
       "std        0.367116    252.264913  1.039932e+05      5.988683  3.516985e+04   \n",
       "min        0.000000      0.000000  0.000000e+00      0.000000  0.000000e+00   \n",
       "25%        3.820000    210.000000  3.410000e+02     90.000000  8.400000e+01   \n",
       "50%        4.030000    304.000000  2.309500e+03     94.000000  9.700000e+01   \n",
       "75%        4.230000    392.000000  9.389000e+03     96.000000  1.870000e+02   \n",
       "max        5.000000  14777.000000  7.048471e+06    100.000000  2.993816e+06   \n",
       "\n",
       "           bbeVotes        5_star        4_star        3_star         2_star  \\\n",
       "count  52428.000000  5.100600e+04  5.100600e+04  5.100600e+04   51006.000000   \n",
       "mean      22.549535  7.490740e+03  6.147517e+03  3.411688e+03     928.435910   \n",
       "std      369.333934  5.144225e+04  3.206654e+04  1.720328e+04    5659.912855   \n",
       "min       -4.000000  0.000000e+00  0.000000e+00  0.000000e+00       0.000000   \n",
       "25%        1.000000  1.460000e+02  1.340000e+02  7.800000e+01      19.000000   \n",
       "50%        1.000000  8.840000e+02  8.340000e+02  4.900000e+02     117.000000   \n",
       "75%        2.000000  3.567750e+03  3.375000e+03  1.957750e+03     475.000000   \n",
       "max    30516.000000  4.578137e+06  1.921313e+06  1.008686e+06  542017.000000   \n",
       "\n",
       "              1_star  \n",
       "count   51006.000000  \n",
       "mean      412.779987  \n",
       "std      3765.856356  \n",
       "min         0.000000  \n",
       "25%         7.000000  \n",
       "50%        39.000000  \n",
       "75%       163.000000  \n",
       "max    548674.000000  "
      ]
     },
     "execution_count": 26,
     "metadata": {},
     "output_type": "execute_result"
    }
   ],
   "source": [
    "df.describe()"
   ]
  },
  {
   "cell_type": "code",
   "execution_count": 27,
   "id": "feb6a510",
   "metadata": {
    "scrolled": false
   },
   "outputs": [
    {
     "data": {
      "text/html": [
       "<div>\n",
       "<style scoped>\n",
       "    .dataframe tbody tr th:only-of-type {\n",
       "        vertical-align: middle;\n",
       "    }\n",
       "\n",
       "    .dataframe tbody tr th {\n",
       "        vertical-align: top;\n",
       "    }\n",
       "\n",
       "    .dataframe thead th {\n",
       "        text-align: right;\n",
       "    }\n",
       "</style>\n",
       "<table border=\"1\" class=\"dataframe\">\n",
       "  <thead>\n",
       "    <tr style=\"text-align: right;\">\n",
       "      <th></th>\n",
       "      <th>rating</th>\n",
       "      <th>pages</th>\n",
       "      <th>numRatings</th>\n",
       "      <th>likedPercent</th>\n",
       "      <th>bbeScore</th>\n",
       "      <th>bbeVotes</th>\n",
       "      <th>5_star</th>\n",
       "      <th>4_star</th>\n",
       "      <th>3_star</th>\n",
       "      <th>2_star</th>\n",
       "      <th>1_star</th>\n",
       "    </tr>\n",
       "  </thead>\n",
       "  <tbody>\n",
       "    <tr>\n",
       "      <th>0</th>\n",
       "      <td>4.33</td>\n",
       "      <td>374.0</td>\n",
       "      <td>6376780</td>\n",
       "      <td>96.0</td>\n",
       "      <td>2993816</td>\n",
       "      <td>30516</td>\n",
       "      <td>3444695.0</td>\n",
       "      <td>1921313.0</td>\n",
       "      <td>745221.0</td>\n",
       "      <td>171994.0</td>\n",
       "      <td>93557.0</td>\n",
       "    </tr>\n",
       "    <tr>\n",
       "      <th>1</th>\n",
       "      <td>4.50</td>\n",
       "      <td>870.0</td>\n",
       "      <td>2507623</td>\n",
       "      <td>98.0</td>\n",
       "      <td>2632233</td>\n",
       "      <td>26923</td>\n",
       "      <td>1593642.0</td>\n",
       "      <td>637516.0</td>\n",
       "      <td>222366.0</td>\n",
       "      <td>39573.0</td>\n",
       "      <td>14526.0</td>\n",
       "    </tr>\n",
       "    <tr>\n",
       "      <th>2</th>\n",
       "      <td>4.28</td>\n",
       "      <td>324.0</td>\n",
       "      <td>4501075</td>\n",
       "      <td>95.0</td>\n",
       "      <td>2269402</td>\n",
       "      <td>23328</td>\n",
       "      <td>2363896.0</td>\n",
       "      <td>1333153.0</td>\n",
       "      <td>573280.0</td>\n",
       "      <td>149952.0</td>\n",
       "      <td>80794.0</td>\n",
       "    </tr>\n",
       "    <tr>\n",
       "      <th>3</th>\n",
       "      <td>4.26</td>\n",
       "      <td>279.0</td>\n",
       "      <td>2998241</td>\n",
       "      <td>94.0</td>\n",
       "      <td>1983116</td>\n",
       "      <td>20452</td>\n",
       "      <td>1617567.0</td>\n",
       "      <td>816659.0</td>\n",
       "      <td>373311.0</td>\n",
       "      <td>113934.0</td>\n",
       "      <td>76770.0</td>\n",
       "    </tr>\n",
       "    <tr>\n",
       "      <th>4</th>\n",
       "      <td>3.60</td>\n",
       "      <td>501.0</td>\n",
       "      <td>4964519</td>\n",
       "      <td>78.0</td>\n",
       "      <td>1459448</td>\n",
       "      <td>14874</td>\n",
       "      <td>1751460.0</td>\n",
       "      <td>1113682.0</td>\n",
       "      <td>1008686.0</td>\n",
       "      <td>542017.0</td>\n",
       "      <td>548674.0</td>\n",
       "    </tr>\n",
       "    <tr>\n",
       "      <th>...</th>\n",
       "      <td>...</td>\n",
       "      <td>...</td>\n",
       "      <td>...</td>\n",
       "      <td>...</td>\n",
       "      <td>...</td>\n",
       "      <td>...</td>\n",
       "      <td>...</td>\n",
       "      <td>...</td>\n",
       "      <td>...</td>\n",
       "      <td>...</td>\n",
       "      <td>...</td>\n",
       "    </tr>\n",
       "    <tr>\n",
       "      <th>52473</th>\n",
       "      <td>4.00</td>\n",
       "      <td>0.0</td>\n",
       "      <td>871</td>\n",
       "      <td>94.0</td>\n",
       "      <td>0</td>\n",
       "      <td>1</td>\n",
       "      <td>311.0</td>\n",
       "      <td>310.0</td>\n",
       "      <td>197.0</td>\n",
       "      <td>42.0</td>\n",
       "      <td>11.0</td>\n",
       "    </tr>\n",
       "    <tr>\n",
       "      <th>52474</th>\n",
       "      <td>4.19</td>\n",
       "      <td>190.0</td>\n",
       "      <td>37</td>\n",
       "      <td>95.0</td>\n",
       "      <td>0</td>\n",
       "      <td>1</td>\n",
       "      <td>16.0</td>\n",
       "      <td>14.0</td>\n",
       "      <td>5.0</td>\n",
       "      <td>2.0</td>\n",
       "      <td>0.0</td>\n",
       "    </tr>\n",
       "    <tr>\n",
       "      <th>52475</th>\n",
       "      <td>3.70</td>\n",
       "      <td>280.0</td>\n",
       "      <td>6674</td>\n",
       "      <td>84.0</td>\n",
       "      <td>0</td>\n",
       "      <td>1</td>\n",
       "      <td>2109.0</td>\n",
       "      <td>1868.0</td>\n",
       "      <td>1660.0</td>\n",
       "      <td>647.0</td>\n",
       "      <td>390.0</td>\n",
       "    </tr>\n",
       "    <tr>\n",
       "      <th>52476</th>\n",
       "      <td>3.85</td>\n",
       "      <td>507.0</td>\n",
       "      <td>238</td>\n",
       "      <td>90.0</td>\n",
       "      <td>0</td>\n",
       "      <td>1</td>\n",
       "      <td>77.0</td>\n",
       "      <td>78.0</td>\n",
       "      <td>59.0</td>\n",
       "      <td>19.0</td>\n",
       "      <td>5.0</td>\n",
       "    </tr>\n",
       "    <tr>\n",
       "      <th>52477</th>\n",
       "      <td>4.02</td>\n",
       "      <td>201.0</td>\n",
       "      <td>246</td>\n",
       "      <td>90.0</td>\n",
       "      <td>0</td>\n",
       "      <td>1</td>\n",
       "      <td>106.0</td>\n",
       "      <td>73.0</td>\n",
       "      <td>42.0</td>\n",
       "      <td>17.0</td>\n",
       "      <td>8.0</td>\n",
       "    </tr>\n",
       "  </tbody>\n",
       "</table>\n",
       "<p>52428 rows × 11 columns</p>\n",
       "</div>"
      ],
      "text/plain": [
       "       rating  pages  numRatings  likedPercent  bbeScore  bbeVotes     5_star  \\\n",
       "0        4.33  374.0     6376780          96.0   2993816     30516  3444695.0   \n",
       "1        4.50  870.0     2507623          98.0   2632233     26923  1593642.0   \n",
       "2        4.28  324.0     4501075          95.0   2269402     23328  2363896.0   \n",
       "3        4.26  279.0     2998241          94.0   1983116     20452  1617567.0   \n",
       "4        3.60  501.0     4964519          78.0   1459448     14874  1751460.0   \n",
       "...       ...    ...         ...           ...       ...       ...        ...   \n",
       "52473    4.00    0.0         871          94.0         0         1      311.0   \n",
       "52474    4.19  190.0          37          95.0         0         1       16.0   \n",
       "52475    3.70  280.0        6674          84.0         0         1     2109.0   \n",
       "52476    3.85  507.0         238          90.0         0         1       77.0   \n",
       "52477    4.02  201.0         246          90.0         0         1      106.0   \n",
       "\n",
       "          4_star     3_star    2_star    1_star  \n",
       "0      1921313.0   745221.0  171994.0   93557.0  \n",
       "1       637516.0   222366.0   39573.0   14526.0  \n",
       "2      1333153.0   573280.0  149952.0   80794.0  \n",
       "3       816659.0   373311.0  113934.0   76770.0  \n",
       "4      1113682.0  1008686.0  542017.0  548674.0  \n",
       "...          ...        ...       ...       ...  \n",
       "52473      310.0      197.0      42.0      11.0  \n",
       "52474       14.0        5.0       2.0       0.0  \n",
       "52475     1868.0     1660.0     647.0     390.0  \n",
       "52476       78.0       59.0      19.0       5.0  \n",
       "52477       73.0       42.0      17.0       8.0  \n",
       "\n",
       "[52428 rows x 11 columns]"
      ]
     },
     "execution_count": 27,
     "metadata": {},
     "output_type": "execute_result"
    }
   ],
   "source": [
    "numerical_df = df.select_dtypes(include=np.number)\n",
    "numerical_df"
   ]
  },
  {
   "cell_type": "code",
   "execution_count": 28,
   "id": "85e81ed7",
   "metadata": {
    "scrolled": false
   },
   "outputs": [
    {
     "data": {
      "image/png": "[encoded data removed]",
      "text/plain": [
       "<Figure size 1600x600 with 3 Axes>"
      ]
     },
     "metadata": {},
     "output_type": "display_data"
    }
   ],
   "source": [
    "cols = ['likedPercent','rating','pages']\n",
    "num_cols_count = len(cols)\n",
    "fig, axes = plt.subplots(1, num_cols_count, figsize=(16, 6))\n",
    "for i, col in enumerate(cols):\n",
    "    min_val = numerical_df[col].min()\n",
    "    max_val = numerical_df[col].max()\n",
    "    axes[i].hist(numerical_df[col], bins=25, range=(min_val, max_val), color='skyblue', edgecolor='black')\n",
    "    axes[i].set_xlabel('Values')\n",
    "    axes[i].set_ylabel('Frequency')\n",
    "    axes[i].set_title(f'Histogram of {col}')\n",
    "    axes[i].grid(True)\n",
    "\n",
    "plt.tight_layout()\n",
    "plt.show()"
   ]
  },
  {
   "cell_type": "code",
   "execution_count": 29,
   "id": "3d147716",
   "metadata": {},
   "outputs": [
    {
     "data": {
      "text/html": [
       "<div>\n",
       "<style scoped>\n",
       "    .dataframe tbody tr th:only-of-type {\n",
       "        vertical-align: middle;\n",
       "    }\n",
       "\n",
       "    .dataframe tbody tr th {\n",
       "        vertical-align: top;\n",
       "    }\n",
       "\n",
       "    .dataframe thead th {\n",
       "        text-align: right;\n",
       "    }\n",
       "</style>\n",
       "<table border=\"1\" class=\"dataframe\">\n",
       "  <thead>\n",
       "    <tr style=\"text-align: right;\">\n",
       "      <th></th>\n",
       "      <th>bookId</th>\n",
       "      <th>title</th>\n",
       "    </tr>\n",
       "  </thead>\n",
       "  <tbody>\n",
       "    <tr>\n",
       "      <th>143</th>\n",
       "      <td>114345.The_Little_House_Collection</td>\n",
       "      <td>The Little House Collection</td>\n",
       "    </tr>\n",
       "    <tr>\n",
       "      <th>409</th>\n",
       "      <td>862041.Harry_Potter_Series_Box_Set</td>\n",
       "      <td>Harry Potter Series Box Set</td>\n",
       "    </tr>\n",
       "    <tr>\n",
       "      <th>1095</th>\n",
       "      <td>3579.The_Complete_Anne_of_Green_Gables_Boxed_Set</td>\n",
       "      <td>The Complete Anne of Green Gables Boxed Set</td>\n",
       "    </tr>\n",
       "    <tr>\n",
       "      <th>1592</th>\n",
       "      <td>18796.In_Search_of_Lost_Time</td>\n",
       "      <td>In Search of Lost Time</td>\n",
       "    </tr>\n",
       "    <tr>\n",
       "      <th>1679</th>\n",
       "      <td>12177850-a-song-of-ice-and-fire</td>\n",
       "      <td>A Song of Ice and Fire</td>\n",
       "    </tr>\n",
       "    <tr>\n",
       "      <th>...</th>\n",
       "      <td>...</td>\n",
       "      <td>...</td>\n",
       "    </tr>\n",
       "    <tr>\n",
       "      <th>46911</th>\n",
       "      <td>15041842-the-sandman-volumes-1-10</td>\n",
       "      <td>The Sandman Volumes 1-10</td>\n",
       "    </tr>\n",
       "    <tr>\n",
       "      <th>49197</th>\n",
       "      <td>21266675-the-complete-secret-seven-library</td>\n",
       "      <td>The Complete Secret Seven Library</td>\n",
       "    </tr>\n",
       "    <tr>\n",
       "      <th>50396</th>\n",
       "      <td>26870789-iron-fey</td>\n",
       "      <td>Iron Fey: The Iron King / Winter's Passage / T...</td>\n",
       "    </tr>\n",
       "    <tr>\n",
       "      <th>50744</th>\n",
       "      <td>18490595-zibaldone</td>\n",
       "      <td>Zibaldone</td>\n",
       "    </tr>\n",
       "    <tr>\n",
       "      <th>51527</th>\n",
       "      <td>7756378-jane-austen</td>\n",
       "      <td>Jane Austen: The Complete Collection</td>\n",
       "    </tr>\n",
       "  </tbody>\n",
       "</table>\n",
       "<p>118 rows × 2 columns</p>\n",
       "</div>"
      ],
      "text/plain": [
       "                                                 bookId  \\\n",
       "143                  114345.The_Little_House_Collection   \n",
       "409                  862041.Harry_Potter_Series_Box_Set   \n",
       "1095   3579.The_Complete_Anne_of_Green_Gables_Boxed_Set   \n",
       "1592                       18796.In_Search_of_Lost_Time   \n",
       "1679                    12177850-a-song-of-ice-and-fire   \n",
       "...                                                 ...   \n",
       "46911                 15041842-the-sandman-volumes-1-10   \n",
       "49197        21266675-the-complete-secret-seven-library   \n",
       "50396                                 26870789-iron-fey   \n",
       "50744                                18490595-zibaldone   \n",
       "51527                               7756378-jane-austen   \n",
       "\n",
       "                                                   title  \n",
       "143                          The Little House Collection  \n",
       "409                          Harry Potter Series Box Set  \n",
       "1095         The Complete Anne of Green Gables Boxed Set  \n",
       "1592                              In Search of Lost Time  \n",
       "1679                              A Song of Ice and Fire  \n",
       "...                                                  ...  \n",
       "46911                           The Sandman Volumes 1-10  \n",
       "49197                  The Complete Secret Seven Library  \n",
       "50396  Iron Fey: The Iron King / Winter's Passage / T...  \n",
       "50744                                          Zibaldone  \n",
       "51527               Jane Austen: The Complete Collection  \n",
       "\n",
       "[118 rows x 2 columns]"
      ]
     },
     "execution_count": 29,
     "metadata": {},
     "output_type": "execute_result"
    }
   ],
   "source": [
    "df.loc[numerical_df[numerical_df['pages'] > 2000].index,:'title']"
   ]
  },
  {
   "cell_type": "markdown",
   "id": "1b13119c",
   "metadata": {},
   "source": [
    "**Nhận xét**: \n",
    "- Hầu như tất cả các cuốn sách đều có phần trăm lượt thích hơn 60%, phần lớn những cuốn sách hơn 60% đều nằm trong khoảng 95-100%.\n",
    "- Về phần đánh giá, các cuốn sách đều có rating khoảng 2.5 sao trở lên, hầu hết nằm ở 4 sao gồm gần 14000, các cuốn sách hay, đạt đánh giá cực tốt (5 sao), chiếm tỉ lệ khá thấp chỉ hơn 1000 cuốn sách trong khoảng hơn 50000.\n",
    "- Các cuốn sách trung bình đều có số trang ít hơn 1000, có những cuốn sách dài tập > 2000 trang chẳng hạn như Harry Potter."
   ]
  },
  {
   "cell_type": "markdown",
   "id": "bef5afe1",
   "metadata": {},
   "source": [
    "### 3.6.1 What is the percentage of missing values?"
   ]
  },
  {
   "cell_type": "code",
   "execution_count": 30,
   "id": "9a35ede9",
   "metadata": {},
   "outputs": [
    {
     "data": {
      "text/html": [
       "<div>\n",
       "<style scoped>\n",
       "    .dataframe tbody tr th:only-of-type {\n",
       "        vertical-align: middle;\n",
       "    }\n",
       "\n",
       "    .dataframe tbody tr th {\n",
       "        vertical-align: top;\n",
       "    }\n",
       "\n",
       "    .dataframe thead th {\n",
       "        text-align: right;\n",
       "    }\n",
       "</style>\n",
       "<table border=\"1\" class=\"dataframe\">\n",
       "  <thead>\n",
       "    <tr style=\"text-align: right;\">\n",
       "      <th></th>\n",
       "      <th>rating</th>\n",
       "      <th>pages</th>\n",
       "      <th>numRatings</th>\n",
       "      <th>likedPercent</th>\n",
       "      <th>bbeScore</th>\n",
       "      <th>bbeVotes</th>\n",
       "      <th>5_star</th>\n",
       "      <th>4_star</th>\n",
       "      <th>3_star</th>\n",
       "      <th>2_star</th>\n",
       "      <th>1_star</th>\n",
       "    </tr>\n",
       "  </thead>\n",
       "  <tbody>\n",
       "    <tr>\n",
       "      <th>missing_ratio</th>\n",
       "      <td>0.0</td>\n",
       "      <td>4.5</td>\n",
       "      <td>0.0</td>\n",
       "      <td>1.2</td>\n",
       "      <td>0.0</td>\n",
       "      <td>0.0</td>\n",
       "      <td>2.7</td>\n",
       "      <td>2.7</td>\n",
       "      <td>2.7</td>\n",
       "      <td>2.7</td>\n",
       "      <td>2.7</td>\n",
       "    </tr>\n",
       "  </tbody>\n",
       "</table>\n",
       "</div>"
      ],
      "text/plain": [
       "               rating  pages  numRatings  likedPercent  bbeScore  bbeVotes  \\\n",
       "missing_ratio     0.0    4.5         0.0           1.2       0.0       0.0   \n",
       "\n",
       "               5_star  4_star  3_star  2_star  1_star  \n",
       "missing_ratio     2.7     2.7     2.7     2.7     2.7  "
      ]
     },
     "execution_count": 30,
     "metadata": {},
     "output_type": "execute_result"
    }
   ],
   "source": [
    "def missing_ratio(input):\n",
    "    return (input.isnull().sum() / len(input) * 100).round(1)\n",
    "\n",
    "\n",
    "df_describe = df.select_dtypes(include=np.number)\n",
    "df_describe = df_describe.agg([missing_ratio])\n",
    "df_describe"
   ]
  },
  {
   "cell_type": "markdown",
   "id": "ec55e668",
   "metadata": {},
   "source": [
    "Chỉ một phần nhỏ có missing value (< 30%) không ảnh hưởng nhiều tới số liệu ta cần phân tích."
   ]
  },
  {
   "cell_type": "markdown",
   "id": "7b43fe85",
   "metadata": {},
   "source": [
    "### 3.6.2 Min? max? Are they abnormal?"
   ]
  },
  {
   "cell_type": "code",
   "execution_count": 31,
   "id": "2ada48ca",
   "metadata": {},
   "outputs": [
    {
     "data": {
      "text/html": [
       "<div>\n",
       "<style scoped>\n",
       "    .dataframe tbody tr th:only-of-type {\n",
       "        vertical-align: middle;\n",
       "    }\n",
       "\n",
       "    .dataframe tbody tr th {\n",
       "        vertical-align: top;\n",
       "    }\n",
       "\n",
       "    .dataframe thead th {\n",
       "        text-align: right;\n",
       "    }\n",
       "</style>\n",
       "<table border=\"1\" class=\"dataframe\">\n",
       "  <thead>\n",
       "    <tr style=\"text-align: right;\">\n",
       "      <th></th>\n",
       "      <th>rating</th>\n",
       "      <th>pages</th>\n",
       "      <th>numRatings</th>\n",
       "      <th>likedPercent</th>\n",
       "      <th>bbeScore</th>\n",
       "      <th>bbeVotes</th>\n",
       "      <th>5_star</th>\n",
       "      <th>4_star</th>\n",
       "      <th>3_star</th>\n",
       "      <th>2_star</th>\n",
       "      <th>1_star</th>\n",
       "    </tr>\n",
       "  </thead>\n",
       "  <tbody>\n",
       "    <tr>\n",
       "      <th>min</th>\n",
       "      <td>0.0</td>\n",
       "      <td>0.0</td>\n",
       "      <td>0</td>\n",
       "      <td>0.0</td>\n",
       "      <td>0</td>\n",
       "      <td>-4</td>\n",
       "      <td>0.0</td>\n",
       "      <td>0.0</td>\n",
       "      <td>0.0</td>\n",
       "      <td>0.0</td>\n",
       "      <td>0.0</td>\n",
       "    </tr>\n",
       "    <tr>\n",
       "      <th>max</th>\n",
       "      <td>5.0</td>\n",
       "      <td>14777.0</td>\n",
       "      <td>7048471</td>\n",
       "      <td>100.0</td>\n",
       "      <td>2993816</td>\n",
       "      <td>30516</td>\n",
       "      <td>4578137.0</td>\n",
       "      <td>1921313.0</td>\n",
       "      <td>1008686.0</td>\n",
       "      <td>542017.0</td>\n",
       "      <td>548674.0</td>\n",
       "    </tr>\n",
       "  </tbody>\n",
       "</table>\n",
       "</div>"
      ],
      "text/plain": [
       "     rating    pages  numRatings  likedPercent  bbeScore  bbeVotes     5_star  \\\n",
       "min     0.0      0.0           0           0.0         0        -4        0.0   \n",
       "max     5.0  14777.0     7048471         100.0   2993816     30516  4578137.0   \n",
       "\n",
       "        4_star     3_star    2_star    1_star  \n",
       "min        0.0        0.0       0.0       0.0  \n",
       "max  1921313.0  1008686.0  542017.0  548674.0  "
      ]
     },
     "execution_count": 31,
     "metadata": {},
     "output_type": "execute_result"
    }
   ],
   "source": [
    "df_describe = df.select_dtypes(include=np.number)\n",
    "df_describe = df_describe.agg([\"min\", \"max\"])\n",
    "df_describe"
   ]
  },
  {
   "cell_type": "markdown",
   "id": "986c2cad",
   "metadata": {},
   "source": [
    "Có vẻ như trong các cột dữ liệu dạng số, cột \"bbeVotes\" bất thường vì min của cột này là -4, trong khi cột này thể số phiếu bầu trong danh sách \"Best Books Ever\", nghĩa là luôn không âm. Các cột còn lại đều đúng và thỏa mãn."
   ]
  },
  {
   "cell_type": "code",
   "execution_count": 32,
   "id": "d0508669",
   "metadata": {},
   "outputs": [],
   "source": [
    "#Fix \"bbeVotes\"\n",
    "df.loc[df[\"bbeVotes\"] < 0, \"bbeVotes\"] = 0"
   ]
  },
  {
   "cell_type": "code",
   "execution_count": 33,
   "id": "1e2b211a",
   "metadata": {},
   "outputs": [
    {
     "data": {
      "text/html": [
       "<div>\n",
       "<style scoped>\n",
       "    .dataframe tbody tr th:only-of-type {\n",
       "        vertical-align: middle;\n",
       "    }\n",
       "\n",
       "    .dataframe tbody tr th {\n",
       "        vertical-align: top;\n",
       "    }\n",
       "\n",
       "    .dataframe thead th {\n",
       "        text-align: right;\n",
       "    }\n",
       "</style>\n",
       "<table border=\"1\" class=\"dataframe\">\n",
       "  <thead>\n",
       "    <tr style=\"text-align: right;\">\n",
       "      <th></th>\n",
       "      <th>rating</th>\n",
       "      <th>pages</th>\n",
       "      <th>numRatings</th>\n",
       "      <th>likedPercent</th>\n",
       "      <th>bbeScore</th>\n",
       "      <th>bbeVotes</th>\n",
       "      <th>5_star</th>\n",
       "      <th>4_star</th>\n",
       "      <th>3_star</th>\n",
       "      <th>2_star</th>\n",
       "      <th>1_star</th>\n",
       "    </tr>\n",
       "  </thead>\n",
       "  <tbody>\n",
       "    <tr>\n",
       "      <th>min</th>\n",
       "      <td>0.0</td>\n",
       "      <td>0.0</td>\n",
       "      <td>0</td>\n",
       "      <td>0.0</td>\n",
       "      <td>0</td>\n",
       "      <td>0</td>\n",
       "      <td>0.0</td>\n",
       "      <td>0.0</td>\n",
       "      <td>0.0</td>\n",
       "      <td>0.0</td>\n",
       "      <td>0.0</td>\n",
       "    </tr>\n",
       "    <tr>\n",
       "      <th>max</th>\n",
       "      <td>5.0</td>\n",
       "      <td>14777.0</td>\n",
       "      <td>7048471</td>\n",
       "      <td>100.0</td>\n",
       "      <td>2993816</td>\n",
       "      <td>30516</td>\n",
       "      <td>4578137.0</td>\n",
       "      <td>1921313.0</td>\n",
       "      <td>1008686.0</td>\n",
       "      <td>542017.0</td>\n",
       "      <td>548674.0</td>\n",
       "    </tr>\n",
       "  </tbody>\n",
       "</table>\n",
       "</div>"
      ],
      "text/plain": [
       "     rating    pages  numRatings  likedPercent  bbeScore  bbeVotes     5_star  \\\n",
       "min     0.0      0.0           0           0.0         0         0        0.0   \n",
       "max     5.0  14777.0     7048471         100.0   2993816     30516  4578137.0   \n",
       "\n",
       "        4_star     3_star    2_star    1_star  \n",
       "min        0.0        0.0       0.0       0.0  \n",
       "max  1921313.0  1008686.0  542017.0  548674.0  "
      ]
     },
     "execution_count": 33,
     "metadata": {},
     "output_type": "execute_result"
    }
   ],
   "source": [
    "df_describe = df.select_dtypes(include=np.number)\n",
    "df_describe = df_describe.agg([\"min\", \"max\"])\n",
    "df_describe"
   ]
  },
  {
   "cell_type": "markdown",
   "id": "18fbc616",
   "metadata": {},
   "source": [
    "## 3.7 With each categorical column, how are values distributed?"
   ]
  },
  {
   "cell_type": "markdown",
   "id": "7bc074b9",
   "metadata": {},
   "source": [
    "* Tìm số unique genres:"
   ]
  },
  {
   "cell_type": "code",
   "execution_count": 34,
   "id": "4e3b69c3",
   "metadata": {},
   "outputs": [],
   "source": [
    "unique_genres = []\n",
    "for sublist in df['genres']:\n",
    "    for genre in sublist:\n",
    "        if genre not in unique_genres:\n",
    "            unique_genres.append(genre)\n",
    "unique_genres.remove('')"
   ]
  },
  {
   "cell_type": "markdown",
   "id": "7d0a4903",
   "metadata": {},
   "source": [
    "### 3.7.1 What is the percentage of missing values?"
   ]
  },
  {
   "cell_type": "code",
   "execution_count": 35,
   "id": "95e0a502",
   "metadata": {
    "scrolled": true
   },
   "outputs": [
    {
     "data": {
      "text/html": [
       "<div>\n",
       "<style scoped>\n",
       "    .dataframe tbody tr th:only-of-type {\n",
       "        vertical-align: middle;\n",
       "    }\n",
       "\n",
       "    .dataframe tbody tr th {\n",
       "        vertical-align: top;\n",
       "    }\n",
       "\n",
       "    .dataframe thead th {\n",
       "        text-align: right;\n",
       "    }\n",
       "</style>\n",
       "<table border=\"1\" class=\"dataframe\">\n",
       "  <thead>\n",
       "    <tr style=\"text-align: right;\">\n",
       "      <th></th>\n",
       "      <th>bookId</th>\n",
       "      <th>title</th>\n",
       "      <th>series</th>\n",
       "      <th>author</th>\n",
       "      <th>description</th>\n",
       "      <th>language</th>\n",
       "      <th>isbn</th>\n",
       "      <th>genres</th>\n",
       "      <th>characters</th>\n",
       "      <th>bookFormat</th>\n",
       "      <th>edition</th>\n",
       "      <th>publisher</th>\n",
       "      <th>publishDate</th>\n",
       "      <th>firstPublishDate</th>\n",
       "      <th>awards</th>\n",
       "      <th>setting</th>\n",
       "      <th>coverImg</th>\n",
       "      <th>price</th>\n",
       "    </tr>\n",
       "  </thead>\n",
       "  <tbody>\n",
       "    <tr>\n",
       "      <th>missing_ratio</th>\n",
       "      <td>0.0</td>\n",
       "      <td>0.0</td>\n",
       "      <td>55.3</td>\n",
       "      <td>0.0</td>\n",
       "      <td>2.5</td>\n",
       "      <td>7.2</td>\n",
       "      <td>0.0</td>\n",
       "      <td>0.0</td>\n",
       "      <td>0.0</td>\n",
       "      <td>2.8</td>\n",
       "      <td>90.6</td>\n",
       "      <td>7.0</td>\n",
       "      <td>13.0</td>\n",
       "      <td>42.6</td>\n",
       "      <td>0.0</td>\n",
       "      <td>0.0</td>\n",
       "      <td>1.2</td>\n",
       "      <td>27.4</td>\n",
       "    </tr>\n",
       "  </tbody>\n",
       "</table>\n",
       "</div>"
      ],
      "text/plain": [
       "               bookId  title  series  author  description  language  isbn  \\\n",
       "missing_ratio     0.0    0.0    55.3     0.0          2.5       7.2   0.0   \n",
       "\n",
       "               genres  characters  bookFormat  edition  publisher  \\\n",
       "missing_ratio     0.0         0.0         2.8     90.6        7.0   \n",
       "\n",
       "               publishDate  firstPublishDate  awards  setting  coverImg  price  \n",
       "missing_ratio         13.0              42.6     0.0      0.0       1.2   27.4  "
      ]
     },
     "execution_count": 35,
     "metadata": {},
     "output_type": "execute_result"
    }
   ],
   "source": [
    "df_describe = df.select_dtypes(exclude=np.number)\n",
    "df_describe = df_describe.agg([missing_ratio])\n",
    "df_describe"
   ]
  },
  {
   "cell_type": "markdown",
   "id": "18fa086e",
   "metadata": {},
   "source": [
    "edition, series có nhiều giá trị missing value (> 30%) ta nên drop cột đó."
   ]
  },
  {
   "cell_type": "code",
   "execution_count": 36,
   "id": "8d02b4f2",
   "metadata": {},
   "outputs": [],
   "source": [
    "df = df.drop(['edition'],axis=1)"
   ]
  },
  {
   "cell_type": "code",
   "execution_count": 37,
   "id": "b0bac65f",
   "metadata": {},
   "outputs": [],
   "source": [
    "df = df.drop(['series'],axis=1)"
   ]
  },
  {
   "cell_type": "code",
   "execution_count": 38,
   "id": "a645b78a",
   "metadata": {},
   "outputs": [
    {
     "data": {
      "text/html": [
       "<div>\n",
       "<style scoped>\n",
       "    .dataframe tbody tr th:only-of-type {\n",
       "        vertical-align: middle;\n",
       "    }\n",
       "\n",
       "    .dataframe tbody tr th {\n",
       "        vertical-align: top;\n",
       "    }\n",
       "\n",
       "    .dataframe thead th {\n",
       "        text-align: right;\n",
       "    }\n",
       "</style>\n",
       "<table border=\"1\" class=\"dataframe\">\n",
       "  <thead>\n",
       "    <tr style=\"text-align: right;\">\n",
       "      <th></th>\n",
       "      <th>bookId</th>\n",
       "      <th>title</th>\n",
       "      <th>author</th>\n",
       "      <th>description</th>\n",
       "      <th>language</th>\n",
       "      <th>isbn</th>\n",
       "      <th>genres</th>\n",
       "      <th>characters</th>\n",
       "      <th>bookFormat</th>\n",
       "      <th>publisher</th>\n",
       "      <th>publishDate</th>\n",
       "      <th>firstPublishDate</th>\n",
       "      <th>awards</th>\n",
       "      <th>setting</th>\n",
       "      <th>coverImg</th>\n",
       "      <th>price</th>\n",
       "    </tr>\n",
       "  </thead>\n",
       "  <tbody>\n",
       "    <tr>\n",
       "      <th>missing_ratio</th>\n",
       "      <td>0.0</td>\n",
       "      <td>0.0</td>\n",
       "      <td>0.0</td>\n",
       "      <td>2.5</td>\n",
       "      <td>7.2</td>\n",
       "      <td>0.0</td>\n",
       "      <td>0.0</td>\n",
       "      <td>0.0</td>\n",
       "      <td>2.8</td>\n",
       "      <td>7.0</td>\n",
       "      <td>13.0</td>\n",
       "      <td>42.6</td>\n",
       "      <td>0.0</td>\n",
       "      <td>0.0</td>\n",
       "      <td>1.2</td>\n",
       "      <td>27.4</td>\n",
       "    </tr>\n",
       "  </tbody>\n",
       "</table>\n",
       "</div>"
      ],
      "text/plain": [
       "               bookId  title  author  description  language  isbn  genres  \\\n",
       "missing_ratio     0.0    0.0     0.0          2.5       7.2   0.0     0.0   \n",
       "\n",
       "               characters  bookFormat  publisher  publishDate  \\\n",
       "missing_ratio         0.0         2.8        7.0         13.0   \n",
       "\n",
       "               firstPublishDate  awards  setting  coverImg  price  \n",
       "missing_ratio              42.6     0.0      0.0       1.2   27.4  "
      ]
     },
     "execution_count": 38,
     "metadata": {},
     "output_type": "execute_result"
    }
   ],
   "source": [
    "df_describe = df.select_dtypes(exclude=np.number)\n",
    "df_describe = df_describe.agg([missing_ratio])\n",
    "df_describe"
   ]
  },
  {
   "cell_type": "markdown",
   "id": "30e7c3e9",
   "metadata": {},
   "source": [
    "### 3.7.2 How many different values? Show a few"
   ]
  },
  {
   "cell_type": "code",
   "execution_count": 39,
   "id": "8905691c",
   "metadata": {},
   "outputs": [
    {
     "name": "stdout",
     "output_type": "stream",
     "text": [
      "English                                  42635\n",
      "Arabic                                    1036\n",
      "Spanish                                    684\n",
      "French                                     576\n",
      "German                                     525\n",
      "                                         ...  \n",
      "Aromanian; Arumanian; Macedo-Romanian        1\n",
      "Basque                                       1\n",
      "Faroese                                      1\n",
      "Iranian (Other)                              1\n",
      "Norwegian Nynorsk; Nynorsk, Norwegian        1\n",
      "Name: language, Length: 81, dtype: int64\n",
      "9999999999999    4350\n",
      "9780312429980       2\n",
      "9780515048742       2\n",
      "9780765326355       2\n",
      "9780446677844       2\n",
      "                 ... \n",
      "9781563899294       1\n",
      "9780976140733       1\n",
      "9780446605151       1\n",
      "9780316036184       1\n",
      "9781599554976       1\n",
      "Name: isbn, Length: 48072, dtype: int64\n",
      "Paperback                26748\n",
      "Hardcover                12257\n",
      "Kindle Edition            5824\n",
      "Mass Market Paperback     2566\n",
      "ebook                     2545\n",
      "                         ...  \n",
      "capa mole                    1\n",
      "Box-Set                      1\n",
      "Paperback, eBook             1\n",
      "paper book                   1\n",
      "pamphlet                     1\n",
      "Name: bookFormat, Length: 136, dtype: int64\n",
      "Vintage                                      572\n",
      "HarperCollins                                562\n",
      "Penguin Books                                430\n",
      "Ballantine Books                             399\n",
      "Bantam                                       369\n",
      "                                            ... \n",
      "Council Oak Books                              1\n",
      "Chicken House / Scholastic                     1\n",
      "Applause Theatre & Cinema Book Publishers      1\n",
      "Ahsyad Publications                            1\n",
      "Bonneville                                     1\n",
      "Name: publisher, Length: 11110, dtype: int64\n"
     ]
    }
   ],
   "source": [
    "cols = ['language','isbn','bookFormat','publisher']\n",
    "for col in cols:\n",
    "    print(df[col].value_counts())"
   ]
  },
  {
   "cell_type": "code",
   "execution_count": 40,
   "id": "24b2a64a",
   "metadata": {},
   "outputs": [],
   "source": [
    "multi_answer_cols = ['author','genres','setting','awards','characters']\n",
    "survey_df = df[multi_answer_cols]\n",
    "count_unique = lambda x: len(x.explode().value_counts())\n",
    "distribution = lambda x: dict(x.explode().value_counts())\n",
    "multiple_cate_profile = survey_df.agg([count_unique,distribution])\n",
    "multiple_cate_profile.index = [\"num_diff_vals\", \"distribution\"]\n",
    "del multiple_cate_profile['setting']['distribution']['']\n",
    "del multiple_cate_profile['awards']['distribution']['']\n",
    "del multiple_cate_profile['characters']['distribution']['']"
   ]
  },
  {
   "cell_type": "code",
   "execution_count": 41,
   "id": "df18324b",
   "metadata": {
    "scrolled": false
   },
   "outputs": [
    {
     "data": {
      "text/html": [
       "<div>\n",
       "<style scoped>\n",
       "    .dataframe tbody tr th:only-of-type {\n",
       "        vertical-align: middle;\n",
       "    }\n",
       "\n",
       "    .dataframe tbody tr th {\n",
       "        vertical-align: top;\n",
       "    }\n",
       "\n",
       "    .dataframe thead th {\n",
       "        text-align: right;\n",
       "    }\n",
       "</style>\n",
       "<table border=\"1\" class=\"dataframe\">\n",
       "  <thead>\n",
       "    <tr style=\"text-align: right;\">\n",
       "      <th></th>\n",
       "      <th>author</th>\n",
       "      <th>genres</th>\n",
       "      <th>setting</th>\n",
       "      <th>awards</th>\n",
       "      <th>characters</th>\n",
       "    </tr>\n",
       "  </thead>\n",
       "  <tbody>\n",
       "    <tr>\n",
       "      <th>num_diff_vals</th>\n",
       "      <td>33697</td>\n",
       "      <td>983</td>\n",
       "      <td>4186</td>\n",
       "      <td>15714</td>\n",
       "      <td>48614</td>\n",
       "    </tr>\n",
       "    <tr>\n",
       "      <th>distribution</th>\n",
       "      <td>{'Stephen King ': 104, 'Nora Roberts ': 103, '...</td>\n",
       "      <td>{'Fiction': 31605, 'Romance': 15482, 'Fantasy'...</td>\n",
       "      <td>{'England': 1331, 'United States of America': ...</td>\n",
       "      <td>{'LovelyBooks Leserpreis Nominee for Allgemein...</td>\n",
       "      <td>{'Bruce Wayne': 51, 'Eve Dallas': 49, 'Roarke'...</td>\n",
       "    </tr>\n",
       "  </tbody>\n",
       "</table>\n",
       "</div>"
      ],
      "text/plain": [
       "                                                          author  \\\n",
       "num_diff_vals                                              33697   \n",
       "distribution   {'Stephen King ': 104, 'Nora Roberts ': 103, '...   \n",
       "\n",
       "                                                          genres  \\\n",
       "num_diff_vals                                                983   \n",
       "distribution   {'Fiction': 31605, 'Romance': 15482, 'Fantasy'...   \n",
       "\n",
       "                                                         setting  \\\n",
       "num_diff_vals                                               4186   \n",
       "distribution   {'England': 1331, 'United States of America': ...   \n",
       "\n",
       "                                                          awards  \\\n",
       "num_diff_vals                                              15714   \n",
       "distribution   {'LovelyBooks Leserpreis Nominee for Allgemein...   \n",
       "\n",
       "                                                      characters  \n",
       "num_diff_vals                                              48614  \n",
       "distribution   {'Bruce Wayne': 51, 'Eve Dallas': 49, 'Roarke'...  "
      ]
     },
     "execution_count": 41,
     "metadata": {},
     "output_type": "execute_result"
    }
   ],
   "source": [
    "multiple_cate_profile"
   ]
  },
  {
   "cell_type": "code",
   "execution_count": 42,
   "id": "c4ca7bfa",
   "metadata": {
    "scrolled": false
   },
   "outputs": [
    {
     "name": "stderr",
     "output_type": "stream",
     "text": [
      "C:\\Users\\HUNG\\AppData\\Local\\Temp\\ipykernel_14016\\3847371799.py:9: UserWarning: FixedFormatter should only be used together with FixedLocator\n",
      "  ax[i,j].set_xticklabels(keys, rotation=45, ha='right')\n"
     ]
    },
    {
     "data": {
      "image/png": "[encoded data removed]",
      "text/plain": [
       "<Figure size 1500x1000 with 6 Axes>"
      ]
     },
     "metadata": {},
     "output_type": "display_data"
    }
   ],
   "source": [
    "fig, ax = plt.subplots(2,3,figsize = (15,10))\n",
    "for i in range(2):\n",
    "    for j in range(3):\n",
    "        if i * 3 + j < multiple_cate_profile.shape[1]:\n",
    "            distribution = multiple_cate_profile.iloc[:,i * 3 + j][1]\n",
    "            top_values = sorted(distribution.items(), key=lambda x: x[1], reverse=True)[:10]\n",
    "            keys, values = zip(*top_values)\n",
    "            ax[i,j].bar(keys, values)\n",
    "            ax[i,j].set_xticklabels(keys, rotation=45, ha='right')\n",
    "            ax[i,j].set_title(multiple_cate_profile.columns[i * 3 + j])\n",
    "plt.tight_layout()\n",
    "plt.show()"
   ]
  },
  {
   "cell_type": "markdown",
   "id": "9d2100b9",
   "metadata": {},
   "source": [
    "**Nhận xét**:\n",
    "- Fiction, Romance là 2 thể loại chủ đề xuất hiện nhiều nhất trong kho tàng GoodReads. Các thể loại ít nổi hơn chẳng hạn như Fantasy, Young Adult, Contemporary cũng được nhiều tác giả viết.\n",
    "- Hầu như các bối cảnh của truyện đều là ở Anh Quốc hoặc Hoa Kỳ, Pháp cũng là một nơi lý tưởng để phát triển bối cảnh câu chuyện.\n",
    "- Các giải thưởng sách thường thấy nhất là LovelyBooks Leserpreis Nominee for Allgemeine Literatur (2009), chỉ gồm hơn 40 cuốn sách đạt được giải, nối tiếp là các giải thưởng khác ít sách đạt được hơn."
   ]
  },
  {
   "cell_type": "markdown",
   "id": "9f8f1102",
   "metadata": {},
   "source": [
    "### 3.7.3 Are they abnormal?\n",
    "Có những giá trị string null như \"\" trong cột setting và awards, điều này cho thấy cuốn sách đấy không có setting, hoặc không đạt được giải thưởng nào."
   ]
  },
  {
   "cell_type": "markdown",
   "id": "5e50880c",
   "metadata": {},
   "source": [
    "# 4. Asking meaningful questions"
   ]
  },
  {
   "cell_type": "markdown",
   "id": "84019768",
   "metadata": {},
   "source": [
    "## 4.1 Question 1"
   ]
  },
  {
   "cell_type": "markdown",
   "id": "9dd65e1e",
   "metadata": {},
   "source": [
    "**Question:** Những tác giả sẽ đạt được giải thưởng đề cử sách nhiều nhất?"
   ]
  },
  {
   "cell_type": "markdown",
   "id": "d0c96a31",
   "metadata": {},
   "source": [
    "**Benefits of finding the answer:** \n",
    "- Xếp loại văn phong, trình độ viết, mức độ nổi tiếng của các tác giả để có thể tìm đọc những cuốn sách hay ít nổi tiếng của những tác giả đó."
   ]
  },
  {
   "cell_type": "markdown",
   "id": "94529bde",
   "metadata": {},
   "source": [
    "## 4.2 Question 2"
   ]
  },
  {
   "cell_type": "markdown",
   "id": "052fc743",
   "metadata": {},
   "source": [
    "**Question:** Xu hướng các thể loại sách được viết ra theo từng giai đoạn thay đổi như thế nào?"
   ]
  },
  {
   "cell_type": "markdown",
   "id": "338d1749",
   "metadata": {},
   "source": [
    "**Benefits of finding the answer:** \n",
    "- Hiểu rõ hơn về sự phát triển của văn hóa và xã hội."
   ]
  },
  {
   "cell_type": "markdown",
   "id": "96c0b220",
   "metadata": {},
   "source": [
    "## 4.3 Question 3"
   ]
  },
  {
   "cell_type": "markdown",
   "id": "b06b49f9",
   "metadata": {},
   "source": [
    "**Question:** Cách để xây dựng hệ thống khuyến nghị 10 cuốn sách dựa trên thể loại và ratings của một cuốn sách?"
   ]
  },
  {
   "cell_type": "markdown",
   "id": "dc2490f7",
   "metadata": {},
   "source": [
    "**Benefits of finding the answer:** \n",
    "- Giúp người đọc khám phá những cuốn sách mới vừa có nhiều điểm tương đồng so với cuốn sách mà người đó thích, vừa có ratings trung bình cao.\n",
    "- Tăng trải nghiệm đọc sách"
   ]
  },
  {
   "cell_type": "markdown",
   "id": "377d7c51",
   "metadata": {},
   "source": [
    "# 5. Preprocessing + analyzing data to answer each question"
   ]
  },
  {
   "cell_type": "markdown",
   "id": "be9a9889",
   "metadata": {},
   "source": [
    "## 5.1 Question 1"
   ]
  },
  {
   "cell_type": "markdown",
   "id": "a942ca27",
   "metadata": {},
   "source": [
    "### 5.1.1 Does it need to have preprocessing step, and if yes, how does your group preprocess?"
   ]
  },
  {
   "cell_type": "markdown",
   "id": "62a66cc2",
   "metadata": {},
   "source": [
    "**Text**"
   ]
  },
  {
   "cell_type": "markdown",
   "id": "7e4f99e6",
   "metadata": {},
   "source": [
    "- Tạo một dataframe mới theo dataframe cũ.\n",
    "- Tiếp theo loại bỏ các dòng không có giải thưởng.\n",
    "- Explode cột author ra thành nhiều dòng."
   ]
  },
  {
   "cell_type": "markdown",
   "id": "75dc656a",
   "metadata": {},
   "source": [
    "**Code**"
   ]
  },
  {
   "cell_type": "code",
   "execution_count": 43,
   "id": "afbc5d9f",
   "metadata": {},
   "outputs": [],
   "source": [
    "Q1_df = df.copy()\n",
    "Q1_df = Q1_df[Q1_df['awards'].apply(lambda x: x != [''])]"
   ]
  },
  {
   "cell_type": "code",
   "execution_count": 44,
   "id": "100e57b0",
   "metadata": {},
   "outputs": [],
   "source": [
    "Q1_df = Q1_df.explode('author').reset_index()"
   ]
  },
  {
   "cell_type": "markdown",
   "id": "73a7a4d1",
   "metadata": {},
   "source": [
    "### 5.1.2 How does your group analyze data to answer the question?"
   ]
  },
  {
   "cell_type": "markdown",
   "id": "07d60298",
   "metadata": {},
   "source": [
    "**Text**\n",
    "- Lấy ra hai cột cần sử dụng là author và awards.\n",
    "- Groupby theo author rồi tính số lượng giải thưởng của từng author đó.\n",
    "- Vẽ biểu đồ thể hiện 20 tác giả có số giải thưởng cao nhất."
   ]
  },
  {
   "cell_type": "markdown",
   "id": "e571db41",
   "metadata": {},
   "source": [
    "**Code**"
   ]
  },
  {
   "cell_type": "code",
   "execution_count": 45,
   "id": "f57c77e3",
   "metadata": {},
   "outputs": [],
   "source": [
    "Q1_df = Q1_df[['author','awards']]"
   ]
  },
  {
   "cell_type": "code",
   "execution_count": 46,
   "id": "c1aac345",
   "metadata": {},
   "outputs": [
    {
     "data": {
      "text/html": [
       "<div>\n",
       "<style scoped>\n",
       "    .dataframe tbody tr th:only-of-type {\n",
       "        vertical-align: middle;\n",
       "    }\n",
       "\n",
       "    .dataframe tbody tr th {\n",
       "        vertical-align: top;\n",
       "    }\n",
       "\n",
       "    .dataframe thead th {\n",
       "        text-align: right;\n",
       "    }\n",
       "</style>\n",
       "<table border=\"1\" class=\"dataframe\">\n",
       "  <thead>\n",
       "    <tr style=\"text-align: right;\">\n",
       "      <th></th>\n",
       "      <th>author</th>\n",
       "      <th>awards</th>\n",
       "    </tr>\n",
       "  </thead>\n",
       "  <tbody>\n",
       "    <tr>\n",
       "      <th>0</th>\n",
       "      <td>A'Mera Frieman</td>\n",
       "      <td>1</td>\n",
       "    </tr>\n",
       "    <tr>\n",
       "      <th>1</th>\n",
       "      <td>A. Lee Martinez</td>\n",
       "      <td>1</td>\n",
       "    </tr>\n",
       "    <tr>\n",
       "      <th>2</th>\n",
       "      <td>A. Manette Ansay</td>\n",
       "      <td>1</td>\n",
       "    </tr>\n",
       "    <tr>\n",
       "      <th>3</th>\n",
       "      <td>A. Samad Said</td>\n",
       "      <td>1</td>\n",
       "    </tr>\n",
       "    <tr>\n",
       "      <th>4</th>\n",
       "      <td>A. Scott Berg</td>\n",
       "      <td>1</td>\n",
       "    </tr>\n",
       "    <tr>\n",
       "      <th>...</th>\n",
       "      <td>...</td>\n",
       "      <td>...</td>\n",
       "    </tr>\n",
       "    <tr>\n",
       "      <th>8170</th>\n",
       "      <td>芦奈野 ひとし</td>\n",
       "      <td>1</td>\n",
       "    </tr>\n",
       "    <tr>\n",
       "      <th>8171</th>\n",
       "      <td>苟利军</td>\n",
       "      <td>1</td>\n",
       "    </tr>\n",
       "    <tr>\n",
       "      <th>8172</th>\n",
       "      <td>貴志 祐介</td>\n",
       "      <td>1</td>\n",
       "    </tr>\n",
       "    <tr>\n",
       "      <th>8173</th>\n",
       "      <td>郭清玲</td>\n",
       "      <td>1</td>\n",
       "    </tr>\n",
       "    <tr>\n",
       "      <th>8174</th>\n",
       "      <td>ﻳﻮﺳﻒ ﺣﻼﻕ</td>\n",
       "      <td>1</td>\n",
       "    </tr>\n",
       "  </tbody>\n",
       "</table>\n",
       "<p>8175 rows × 2 columns</p>\n",
       "</div>"
      ],
      "text/plain": [
       "                author  awards\n",
       "0       A'Mera Frieman       1\n",
       "1     A. Lee Martinez        1\n",
       "2     A. Manette Ansay       1\n",
       "3        A. Samad Said       1\n",
       "4        A. Scott Berg       1\n",
       "...                ...     ...\n",
       "8170           芦奈野 ひとし       1\n",
       "8171              苟利军        1\n",
       "8172             貴志 祐介       1\n",
       "8173              郭清玲        1\n",
       "8174         ﻳﻮﺳﻒ ﺣﻼﻕ        1\n",
       "\n",
       "[8175 rows x 2 columns]"
      ]
     },
     "execution_count": 46,
     "metadata": {},
     "output_type": "execute_result"
    }
   ],
   "source": [
    "Q1_df = Q1_df.groupby('author')['awards'].count().reset_index()\n",
    "Q1_df"
   ]
  },
  {
   "cell_type": "code",
   "execution_count": 49,
   "id": "7c3a7a82",
   "metadata": {},
   "outputs": [
    {
     "data": {
      "image/png": "[encoded data removed]",
      "text/plain": [
       "<Figure size 1000x600 with 1 Axes>"
      ]
     },
     "metadata": {},
     "output_type": "display_data"
    }
   ],
   "source": [
    "top_20_authors = Q1_df.sort_values(by='awards', ascending=False).head(20)\n",
    "plt.figure(figsize=(10, 6))\n",
    "plt.barh(top_20_authors['author'], top_20_authors['awards'], color='skyblue')\n",
    "plt.xlabel('Số lượng giải thưởng')\n",
    "plt.title('Top 20 tác giả có số lượng giải thưởng nhiều nhất')\n",
    "plt.gca().invert_yaxis()\n",
    "plt.tight_layout()\n",
    "plt.show()"
   ]
  },
  {
   "cell_type": "markdown",
   "id": "108ae8d2",
   "metadata": {},
   "source": [
    "## 5.2 Question 2"
   ]
  },
  {
   "cell_type": "markdown",
   "id": "f85c1731",
   "metadata": {},
   "source": [
    "### 5.2.1 Does it need to have preprocessing step, and if yes, how does your group preprocess?"
   ]
  },
  {
   "cell_type": "markdown",
   "id": "3b39c816",
   "metadata": {},
   "source": [
    "**Text**"
   ]
  },
  {
   "cell_type": "markdown",
   "id": "b9a58d54",
   "metadata": {},
   "source": [
    "- Đầu tiên ta tiến hành loại bỏ những giá trị Nan trong cột PublishDate và gắn vào DataFrame survey_df\n",
    "- Tiếp theo sẽ tạo ra 1 columns mới với giá trị là Năm của \"publishDate\"\n",
    "- Tiến hành sắp xếp data tăng dần theo số Năm\n",
    "- Loại bỏ dòng đầu tiên vì đó giá trị của nó là []"
   ]
  },
  {
   "cell_type": "markdown",
   "id": "c6b988b7",
   "metadata": {},
   "source": [
    "**Code**"
   ]
  },
  {
   "cell_type": "code",
   "execution_count": 50,
   "id": "329a1c59",
   "metadata": {},
   "outputs": [
    {
     "name": "stderr",
     "output_type": "stream",
     "text": [
      "C:\\Users\\HUNG\\AppData\\Local\\Temp\\ipykernel_14016\\3414911773.py:2: SettingWithCopyWarning: \n",
      "A value is trying to be set on a copy of a slice from a DataFrame.\n",
      "Try using .loc[row_indexer,col_indexer] = value instead\n",
      "\n",
      "See the caveats in the documentation: https://pandas.pydata.org/pandas-docs/stable/user_guide/indexing.html#returning-a-view-versus-a-copy\n",
      "  surver_df['publishDate_Year'] = surver_df['publishDate'].apply(lambda x: x.year)\n"
     ]
    }
   ],
   "source": [
    "surver_df = df[df['publishDate'].notna()]\n",
    "surver_df['publishDate_Year'] = surver_df['publishDate'].apply(lambda x: x.year)\n",
    "surver_df = surver_df[['genres','publishDate_Year']].sort_values(by = 'publishDate_Year').iloc[1:,:]"
   ]
  },
  {
   "cell_type": "markdown",
   "id": "9ebe168b",
   "metadata": {},
   "source": [
    "### 5.2.2 How does your group analyze data to answer the question?"
   ]
  },
  {
   "cell_type": "markdown",
   "id": "147699d9",
   "metadata": {},
   "source": [
    "**Text**"
   ]
  },
  {
   "cell_type": "markdown",
   "id": "4043bd6f",
   "metadata": {},
   "source": [
    "- Chọn ra 4 giai đoạn để so sánh là (1900,2000),(2000,2010),(2010,2015),(2015,2022)\n",
    "- Với mỗi giai đoạn:\n",
    "    - Vì mỗi phim chứa 1 list các thể loại nên em dùng explode để phân tách ra.\n",
    "    - Dùng value_counts() để tìm ra số lần xuất của các thể loại đó và chọn ra top 5 có số lần xuất hiện nhiều nhất\n",
    "    - Chia cho tổng số thể loại để lấy %\n",
    "- Dùng for để duyệt qua 4 giai đoạn"
   ]
  },
  {
   "cell_type": "markdown",
   "id": "2dffa63c",
   "metadata": {},
   "source": [
    "**Code**"
   ]
  },
  {
   "cell_type": "code",
   "execution_count": 51,
   "id": "4106e21b",
   "metadata": {},
   "outputs": [
    {
     "data": {
      "image/png": "[encoded data removed]",
      "text/plain": [
       "<Figure size 2400x600 with 4 Axes>"
      ]
     },
     "metadata": {},
     "output_type": "display_data"
    }
   ],
   "source": [
    "stages = [(1900,2000),(2000,2010),(2010,2015),(2015,2022)]\n",
    "fig, ax = plt.subplots(1,4,figsize = (24,6))\n",
    "for i, stage in enumerate(stages):\n",
    "    survey_df_i = surver_df[(surver_df['publishDate_Year'] >= stage[0]) & (surver_df['publishDate_Year'] < stage[1])]\n",
    "    length = len(survey_df_i.genres.explode())\n",
    "    distribution = pd.DataFrame(survey_df_i.genres.explode().value_counts()[:5]/length*100).reset_index()\n",
    "    distribution.columns = ['genres','ratio']\n",
    "    sns.barplot(x='genres', y='ratio', data = distribution, ax = ax[i], palette='Blues_d')\n",
    "    ax[i].bar_label(ax[i].containers[0], fmt='%1.3f', label_type='edge', fontsize=10)\n",
    "    ax[i].set_title(f'5 thể loại phổ biến nhất giai đoạn {stage}')\n",
    "    ax[i].set_xlabel('Genres')\n",
    "    ax[i].set_ylabel('Ratio')\n",
    "    ax[i].set_xticklabels(ax[i].get_xticklabels(), rotation = 45)"
   ]
  },
  {
   "cell_type": "markdown",
   "id": "47aaf199",
   "metadata": {},
   "source": [
    "- Ta có thể thấy thể loại Fiction luôn đứng đầu trong mọi giai đoạn\n",
    "- Càng về sau, thể loại Romance dần vượt lên\n",
    "- Sẽ thêm nhận xét sau."
   ]
  },
  {
   "cell_type": "markdown",
   "id": "8e40a5a3",
   "metadata": {},
   "source": [
    "## 5.3 Question 3"
   ]
  },
  {
   "cell_type": "markdown",
   "id": "372339d5",
   "metadata": {},
   "source": [
    "### 5.3.1 Does it need to have preprocessing step, and if yes, how does your group preprocess?"
   ]
  },
  {
   "cell_type": "markdown",
   "id": "66f0d824",
   "metadata": {},
   "source": [
    "Để thực hiện câu hỏi này, ta cần thiết lập ma trận TF-IDF dựa trên các thể loại.<br>\n",
    "Trước khi đi vào bước tiền xử lí dữ liệu, em sẽ giải thích định nghĩa về TF-IDF: là một thước đo thống kê đánh giá mức độ quan trọng của một từ với một tài liệu trong bộ sưu tập tài liệu.<br>\n",
    "**Các bước:**\n",
    "- Xây dựng ma trận với với số dòng tương ứng với số lượng sách và số cột tương ứng với số từ được tách ra từ \"genres\"\n",
    "- Tính ma trận TF-IDF"
   ]
  },
  {
   "cell_type": "markdown",
   "id": "7aef49f1",
   "metadata": {},
   "source": [
    "Xây dựng ma trận với với số dòng tương ứng với số lượng sách và số cột tương ứng với số từ được tách ra từ \"genres\""
   ]
  },
  {
   "cell_type": "code",
   "execution_count": 52,
   "id": "25abdf36",
   "metadata": {},
   "outputs": [],
   "source": [
    "one_hot_df = pd.get_dummies(df['genres'].apply(pd.Series).stack()).groupby(level=0).sum()\n",
    "one_hot_df.index = df['title'].values"
   ]
  },
  {
   "cell_type": "markdown",
   "id": "a5e13b5b",
   "metadata": {},
   "source": [
    "Tính ma trận TF-IDF "
   ]
  },
  {
   "cell_type": "code",
   "execution_count": 53,
   "id": "1a152183",
   "metadata": {},
   "outputs": [],
   "source": [
    "tfidf_transformer = TfidfTransformer()\n",
    "tfidf_matrix = tfidf_transformer.fit_transform(one_hot_df)\n",
    "tfidf_df = pd.DataFrame(tfidf_matrix.toarray(), columns=one_hot_df.columns, index = one_hot_df.index)"
   ]
  },
  {
   "cell_type": "markdown",
   "id": "a53e70b6",
   "metadata": {},
   "source": [
    "### 5.3.2 How does your group analyze data to answer the question?"
   ]
  },
  {
   "cell_type": "markdown",
   "id": "74953079",
   "metadata": {},
   "source": [
    "- Em sẽ lọc ra những cuốn sách có ratings $\\geq$ 4.5 để nâng cao chất lượng của hệ thống gợi ý.\n",
    "- Em sử dụng độ tương tự cosine để tính toán một đại lượng số biểu thị sự giống nhau giữa tất cả cuốn sách với các cuốn sách có ratings $\\geq$ 4.5\n",
    "\n",
    "**Chú ý:** Tuy nhiên, vì lượng dữ liệu lớn nên việc lưu trữ và tính toán độ tương đồng giữa các cuốn sách cùng một lúc là không khả thi vì nó có thể dẫn đến các vấn đề về bộ nhớ. Cho nên em đề xuất một giải pháp là sử dụng batch_size, nghĩa là ở mỗi bước, ta sẽ tính toán độ tương đồng giữa các các cuốn sách trong batch_size với toàn bộ dataset và lưu trữ trên ma trận (batch_size,m)(Với m là số lượng sách có ratings lớn hơn 4.5)."
   ]
  },
  {
   "cell_type": "markdown",
   "id": "da2f7e88",
   "metadata": {},
   "source": [
    "**Khởi tạo batch_size = 128**"
   ]
  },
  {
   "cell_type": "code",
   "execution_count": 54,
   "id": "c78b9c04",
   "metadata": {},
   "outputs": [],
   "source": [
    "batch_size = 256\n",
    "start = 0\n",
    "end = batch_size"
   ]
  },
  {
   "cell_type": "markdown",
   "id": "c3002287",
   "metadata": {},
   "source": [
    "**Lọc ra những cuốn sách có ratings $\\geq$ 4.5**"
   ]
  },
  {
   "cell_type": "code",
   "execution_count": 55,
   "id": "96c27e28",
   "metadata": {},
   "outputs": [],
   "source": [
    "df_ratings = df[df['rating']>=4.5]\n",
    "tfidf_ratings_df = tfidf_df[(df['rating']>=4.5).values]"
   ]
  },
  {
   "cell_type": "markdown",
   "id": "40dc16f7",
   "metadata": {},
   "source": [
    "**Tính toán cosine similarity**"
   ]
  },
  {
   "cell_type": "code",
   "execution_count": 56,
   "id": "3c1f2748",
   "metadata": {},
   "outputs": [],
   "source": [
    "num_epoch = df.shape[0]//batch_size + 1\n",
    "cosine_sim_dict = {}\n",
    "for i in range(num_epoch):\n",
    "    cosine_sim_df = cosine_similarity(tfidf_df[start:end], tfidf_ratings_df)\n",
    "    cosine_sim_batch = pd.DataFrame(cosine_sim_df, index=one_hot_df.index[start:end], columns=tfidf_ratings_df.index)\n",
    "    cosine_sim_dict[i] = cosine_sim_batch\n",
    "    start += batch_size\n",
    "    end += batch_size"
   ]
  },
  {
   "cell_type": "markdown",
   "id": "e1caeabb",
   "metadata": {},
   "source": [
    "**Xây dựng hệ thống gợi ý**"
   ]
  },
  {
   "cell_type": "code",
   "execution_count": 57,
   "id": "4140c552",
   "metadata": {},
   "outputs": [],
   "source": [
    "def Content_based_RS(cosine_sim_dict, book_title,n):\n",
    "    idx = df[df['title'] == book_title].index[0]\n",
    "    i = idx // batch_size\n",
    "    result = cosine_sim_dict[i][cosine_sim_dict[i].index == book_title].squeeze().nlargest(n)\n",
    "    name, score = result.index, result.values\n",
    "    return name, score"
   ]
  },
  {
   "cell_type": "code",
   "execution_count": 58,
   "id": "caf7efa3",
   "metadata": {},
   "outputs": [],
   "source": [
    "book_title = 'Daughter of Helaman'\n",
    "n = 5\n",
    "name, score = Content_based_RS(cosine_sim_dict,'Daughter of Helaman',n)\n",
    "top_n_book = pd.DataFrame([name,score], index = ['Title','Cosine Similarity']).transpose()"
   ]
  },
  {
   "cell_type": "code",
   "execution_count": 59,
   "id": "de4214cb",
   "metadata": {},
   "outputs": [
    {
     "data": {
      "text/html": [
       "<div>\n",
       "<style scoped>\n",
       "    .dataframe tbody tr th:only-of-type {\n",
       "        vertical-align: middle;\n",
       "    }\n",
       "\n",
       "    .dataframe tbody tr th {\n",
       "        vertical-align: top;\n",
       "    }\n",
       "\n",
       "    .dataframe thead th {\n",
       "        text-align: right;\n",
       "    }\n",
       "</style>\n",
       "<table border=\"1\" class=\"dataframe\">\n",
       "  <thead>\n",
       "    <tr style=\"text-align: right;\">\n",
       "      <th></th>\n",
       "      <th>Title</th>\n",
       "      <th>Cosine Similarity</th>\n",
       "    </tr>\n",
       "  </thead>\n",
       "  <tbody>\n",
       "    <tr>\n",
       "      <th>0</th>\n",
       "      <td>The Work and the Glory 9 volumes</td>\n",
       "      <td>0.780871</td>\n",
       "    </tr>\n",
       "    <tr>\n",
       "      <th>1</th>\n",
       "      <td>Fire of the Covenant: The Story of the Willie ...</td>\n",
       "      <td>0.61016</td>\n",
       "    </tr>\n",
       "    <tr>\n",
       "      <th>2</th>\n",
       "      <td>The Sweet Evil Complete Collection: Sweet Evil...</td>\n",
       "      <td>0.384329</td>\n",
       "    </tr>\n",
       "    <tr>\n",
       "      <th>3</th>\n",
       "      <td>Fablehaven; Rise of the Evening Star; Grip of ...</td>\n",
       "      <td>0.366462</td>\n",
       "    </tr>\n",
       "    <tr>\n",
       "      <th>4</th>\n",
       "      <td>Seasons of Love and War</td>\n",
       "      <td>0.364182</td>\n",
       "    </tr>\n",
       "  </tbody>\n",
       "</table>\n",
       "</div>"
      ],
      "text/plain": [
       "                                               Title Cosine Similarity\n",
       "0                   The Work and the Glory 9 volumes          0.780871\n",
       "1  Fire of the Covenant: The Story of the Willie ...           0.61016\n",
       "2  The Sweet Evil Complete Collection: Sweet Evil...          0.384329\n",
       "3  Fablehaven; Rise of the Evening Star; Grip of ...          0.366462\n",
       "4                            Seasons of Love and War          0.364182"
      ]
     },
     "execution_count": 59,
     "metadata": {},
     "output_type": "execute_result"
    }
   ],
   "source": [
    "top_n_book"
   ]
  },
  {
   "cell_type": "code",
   "execution_count": 60,
   "id": "7ed1a466",
   "metadata": {},
   "outputs": [
    {
     "data": {
      "image/png": "[encoded data removed]",
      "text/plain": [
       "<Figure size 1200x800 with 1 Axes>"
      ]
     },
     "metadata": {},
     "output_type": "display_data"
    }
   ],
   "source": [
    "plt.figure(figsize=(12, 8))\n",
    "sns.barplot(x='Cosine Similarity', y='Title', data=top_n_book, palette='Blues_d')\n",
    "plt.title(f'Top {n} Books Similarity with {book_title}')\n",
    "plt.xlabel('Cosine Similarity')\n",
    "plt.ylabel('Book Title')\n",
    "plt.show()"
   ]
  },
  {
   "cell_type": "markdown",
   "id": "9d4a449b",
   "metadata": {},
   "source": [
    "# 6. Reflection"
   ]
  },
  {
   "cell_type": "code",
   "execution_count": null,
   "id": "0bd0a1ef",
   "metadata": {},
   "outputs": [],
   "source": []
  },
  {
   "cell_type": "code",
   "execution_count": null,
   "id": "defaa1c4",
   "metadata": {},
   "outputs": [],
   "source": []
  },
  {
   "cell_type": "code",
   "execution_count": null,
   "id": "35902d35",
   "metadata": {},
   "outputs": [],
   "source": []
  },
  {
   "cell_type": "code",
   "execution_count": null,
   "id": "c05dccb8",
   "metadata": {},
   "outputs": [],
   "source": []
  },
  {
   "cell_type": "code",
   "execution_count": null,
   "id": "ef3b67ef",
   "metadata": {},
   "outputs": [],
   "source": []
  },
  {
   "cell_type": "code",
   "execution_count": null,
   "id": "1ee177e4",
   "metadata": {},
   "outputs": [],
   "source": []
  },
  {
   "cell_type": "code",
   "execution_count": null,
   "id": "0034c0d8",
   "metadata": {},
   "outputs": [],
   "source": []
  },
  {
   "cell_type": "code",
   "execution_count": null,
   "id": "d6225168",
   "metadata": {},
   "outputs": [],
   "source": []
  }
 ],
 "metadata": {
  "kernelspec": {
   "display_name": "Python 3 (ipykernel)",
   "language": "python",
   "name": "python3"
  },
  "language_info": {
   "codemirror_mode": {
    "name": "ipython",
    "version": 3
   },
   "file_extension": ".py",
   "mimetype": "text/x-python",
   "name": "python",
   "nbconvert_exporter": "python",
   "pygments_lexer": "ipython3",
   "version": "3.11.3"
  }
 },
 "nbformat": 4,
 "nbformat_minor": 5
}
